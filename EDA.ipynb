{
 "cells": [
  {
   "attachments": {},
   "cell_type": "markdown",
   "metadata": {},
   "source": [
    "## HENRY PI 03 - DATA ANALYST"
   ]
  },
  {
   "cell_type": "code",
   "execution_count": 73,
   "metadata": {},
   "outputs": [],
   "source": [
    "### Librarys\n",
    "import pandas as pd\n",
    "import numpy as np\n",
    "\n",
    "### Plott\n",
    "import matplotlib.pyplot as plt\n",
    "import seaborn as sns"
   ]
  },
  {
   "cell_type": "code",
   "execution_count": 74,
   "metadata": {},
   "outputs": [],
   "source": [
    "#Loading data\n",
    "cursera_co =pd.read_csv('datasets/Coursera_courses.csv')\n",
    "cursera_re =pd.read_csv('datasets/Coursera_reviews.csv')\n",
    "edx_co =pd.read_csv('datasets/edx_courses.csv')\n",
    "udemy_co =pd.read_csv('datasets/udemy_courses.csv')"
   ]
  },
  {
   "attachments": {},
   "cell_type": "markdown",
   "metadata": {},
   "source": [
    "---"
   ]
  },
  {
   "attachments": {},
   "cell_type": "markdown",
   "metadata": {},
   "source": [
    "## CURSERA"
   ]
  },
  {
   "attachments": {},
   "cell_type": "markdown",
   "metadata": {},
   "source": [
    "First of all, we use methods \"describe\", \"info\" and \"head\" to get a general view of the datasets.\n"
   ]
  },
  {
   "cell_type": "code",
   "execution_count": 75,
   "metadata": {},
   "outputs": [
    {
     "data": {
      "text/html": [
       "<div>\n",
       "<style scoped>\n",
       "    .dataframe tbody tr th:only-of-type {\n",
       "        vertical-align: middle;\n",
       "    }\n",
       "\n",
       "    .dataframe tbody tr th {\n",
       "        vertical-align: top;\n",
       "    }\n",
       "\n",
       "    .dataframe thead th {\n",
       "        text-align: right;\n",
       "    }\n",
       "</style>\n",
       "<table border=\"1\" class=\"dataframe\">\n",
       "  <thead>\n",
       "    <tr style=\"text-align: right;\">\n",
       "      <th></th>\n",
       "      <th>name</th>\n",
       "      <th>institution</th>\n",
       "      <th>course_url</th>\n",
       "      <th>course_id</th>\n",
       "    </tr>\n",
       "  </thead>\n",
       "  <tbody>\n",
       "    <tr>\n",
       "      <th>0</th>\n",
       "      <td>Machine Learning</td>\n",
       "      <td>Stanford University</td>\n",
       "      <td>https://www.coursera.org/learn/machine-learning</td>\n",
       "      <td>machine-learning</td>\n",
       "    </tr>\n",
       "    <tr>\n",
       "      <th>1</th>\n",
       "      <td>Indigenous Canada</td>\n",
       "      <td>University of Alberta</td>\n",
       "      <td>https://www.coursera.org/learn/indigenous-canada</td>\n",
       "      <td>indigenous-canada</td>\n",
       "    </tr>\n",
       "    <tr>\n",
       "      <th>2</th>\n",
       "      <td>The Science of Well-Being</td>\n",
       "      <td>Yale University</td>\n",
       "      <td>https://www.coursera.org/learn/the-science-of-...</td>\n",
       "      <td>the-science-of-well-being</td>\n",
       "    </tr>\n",
       "    <tr>\n",
       "      <th>3</th>\n",
       "      <td>Technical Support Fundamentals</td>\n",
       "      <td>Google</td>\n",
       "      <td>https://www.coursera.org/learn/technical-suppo...</td>\n",
       "      <td>technical-support-fundamentals</td>\n",
       "    </tr>\n",
       "    <tr>\n",
       "      <th>4</th>\n",
       "      <td>Become a CBRS Certified Professional Installer...</td>\n",
       "      <td>Google - Spectrum Sharing</td>\n",
       "      <td>https://www.coursera.org/learn/google-cbrs-cpi...</td>\n",
       "      <td>google-cbrs-cpi-training</td>\n",
       "    </tr>\n",
       "  </tbody>\n",
       "</table>\n",
       "</div>"
      ],
      "text/plain": [
       "                                                name  \\\n",
       "0                                   Machine Learning   \n",
       "1                                  Indigenous Canada   \n",
       "2                          The Science of Well-Being   \n",
       "3                     Technical Support Fundamentals   \n",
       "4  Become a CBRS Certified Professional Installer...   \n",
       "\n",
       "                 institution  \\\n",
       "0        Stanford University   \n",
       "1      University of Alberta   \n",
       "2            Yale University   \n",
       "3                     Google   \n",
       "4  Google - Spectrum Sharing   \n",
       "\n",
       "                                          course_url  \\\n",
       "0    https://www.coursera.org/learn/machine-learning   \n",
       "1   https://www.coursera.org/learn/indigenous-canada   \n",
       "2  https://www.coursera.org/learn/the-science-of-...   \n",
       "3  https://www.coursera.org/learn/technical-suppo...   \n",
       "4  https://www.coursera.org/learn/google-cbrs-cpi...   \n",
       "\n",
       "                        course_id  \n",
       "0                machine-learning  \n",
       "1               indigenous-canada  \n",
       "2       the-science-of-well-being  \n",
       "3  technical-support-fundamentals  \n",
       "4        google-cbrs-cpi-training  "
      ]
     },
     "execution_count": 75,
     "metadata": {},
     "output_type": "execute_result"
    }
   ],
   "source": [
    "cursera_co.head()"
   ]
  },
  {
   "cell_type": "code",
   "execution_count": 76,
   "metadata": {},
   "outputs": [
    {
     "data": {
      "text/html": [
       "<div>\n",
       "<style scoped>\n",
       "    .dataframe tbody tr th:only-of-type {\n",
       "        vertical-align: middle;\n",
       "    }\n",
       "\n",
       "    .dataframe tbody tr th {\n",
       "        vertical-align: top;\n",
       "    }\n",
       "\n",
       "    .dataframe thead th {\n",
       "        text-align: right;\n",
       "    }\n",
       "</style>\n",
       "<table border=\"1\" class=\"dataframe\">\n",
       "  <thead>\n",
       "    <tr style=\"text-align: right;\">\n",
       "      <th></th>\n",
       "      <th>name</th>\n",
       "      <th>institution</th>\n",
       "      <th>course_url</th>\n",
       "      <th>course_id</th>\n",
       "    </tr>\n",
       "  </thead>\n",
       "  <tbody>\n",
       "    <tr>\n",
       "      <th>count</th>\n",
       "      <td>623</td>\n",
       "      <td>623</td>\n",
       "      <td>623</td>\n",
       "      <td>623</td>\n",
       "    </tr>\n",
       "    <tr>\n",
       "      <th>unique</th>\n",
       "      <td>622</td>\n",
       "      <td>134</td>\n",
       "      <td>623</td>\n",
       "      <td>623</td>\n",
       "    </tr>\n",
       "    <tr>\n",
       "      <th>top</th>\n",
       "      <td>Introduction to Psychology</td>\n",
       "      <td>University of Pennsylvania</td>\n",
       "      <td>https://www.coursera.org/learn/machine-learning</td>\n",
       "      <td>machine-learning</td>\n",
       "    </tr>\n",
       "    <tr>\n",
       "      <th>freq</th>\n",
       "      <td>2</td>\n",
       "      <td>43</td>\n",
       "      <td>1</td>\n",
       "      <td>1</td>\n",
       "    </tr>\n",
       "  </tbody>\n",
       "</table>\n",
       "</div>"
      ],
      "text/plain": [
       "                              name                 institution  \\\n",
       "count                          623                         623   \n",
       "unique                         622                         134   \n",
       "top     Introduction to Psychology  University of Pennsylvania   \n",
       "freq                             2                          43   \n",
       "\n",
       "                                             course_url         course_id  \n",
       "count                                               623               623  \n",
       "unique                                              623               623  \n",
       "top     https://www.coursera.org/learn/machine-learning  machine-learning  \n",
       "freq                                                  1                 1  "
      ]
     },
     "execution_count": 76,
     "metadata": {},
     "output_type": "execute_result"
    }
   ],
   "source": [
    "cursera_co.describe()"
   ]
  },
  {
   "cell_type": "code",
   "execution_count": 77,
   "metadata": {},
   "outputs": [
    {
     "name": "stdout",
     "output_type": "stream",
     "text": [
      "<class 'pandas.core.frame.DataFrame'>\n",
      "RangeIndex: 623 entries, 0 to 622\n",
      "Data columns (total 4 columns):\n",
      " #   Column       Non-Null Count  Dtype \n",
      "---  ------       --------------  ----- \n",
      " 0   name         623 non-null    object\n",
      " 1   institution  623 non-null    object\n",
      " 2   course_url   623 non-null    object\n",
      " 3   course_id    623 non-null    object\n",
      "dtypes: object(4)\n",
      "memory usage: 19.6+ KB\n"
     ]
    }
   ],
   "source": [
    "cursera_co.info()"
   ]
  },
  {
   "cell_type": "code",
   "execution_count": 78,
   "metadata": {},
   "outputs": [
    {
     "data": {
      "text/plain": [
       "0"
      ]
     },
     "execution_count": 78,
     "metadata": {},
     "output_type": "execute_result"
    }
   ],
   "source": [
    "cursera_co[\"course_url\"].duplicated().sum()"
   ]
  },
  {
   "attachments": {},
   "cell_type": "markdown",
   "metadata": {},
   "source": [
    "---"
   ]
  },
  {
   "cell_type": "code",
   "execution_count": 79,
   "metadata": {},
   "outputs": [
    {
     "data": {
      "text/html": [
       "<div>\n",
       "<style scoped>\n",
       "    .dataframe tbody tr th:only-of-type {\n",
       "        vertical-align: middle;\n",
       "    }\n",
       "\n",
       "    .dataframe tbody tr th {\n",
       "        vertical-align: top;\n",
       "    }\n",
       "\n",
       "    .dataframe thead th {\n",
       "        text-align: right;\n",
       "    }\n",
       "</style>\n",
       "<table border=\"1\" class=\"dataframe\">\n",
       "  <thead>\n",
       "    <tr style=\"text-align: right;\">\n",
       "      <th></th>\n",
       "      <th>reviews</th>\n",
       "      <th>reviewers</th>\n",
       "      <th>date_reviews</th>\n",
       "      <th>rating</th>\n",
       "      <th>course_id</th>\n",
       "    </tr>\n",
       "  </thead>\n",
       "  <tbody>\n",
       "    <tr>\n",
       "      <th>0</th>\n",
       "      <td>Pretty dry, but I was able to pass with just t...</td>\n",
       "      <td>By Robert S</td>\n",
       "      <td>Feb 12, 2020</td>\n",
       "      <td>4</td>\n",
       "      <td>google-cbrs-cpi-training</td>\n",
       "    </tr>\n",
       "    <tr>\n",
       "      <th>1</th>\n",
       "      <td>would be a better experience if the video and ...</td>\n",
       "      <td>By Gabriel E R</td>\n",
       "      <td>Sep 28, 2020</td>\n",
       "      <td>4</td>\n",
       "      <td>google-cbrs-cpi-training</td>\n",
       "    </tr>\n",
       "    <tr>\n",
       "      <th>2</th>\n",
       "      <td>Information was perfect! The program itself wa...</td>\n",
       "      <td>By Jacob D</td>\n",
       "      <td>Apr 08, 2020</td>\n",
       "      <td>4</td>\n",
       "      <td>google-cbrs-cpi-training</td>\n",
       "    </tr>\n",
       "    <tr>\n",
       "      <th>3</th>\n",
       "      <td>A few grammatical mistakes on test made me do ...</td>\n",
       "      <td>By Dale B</td>\n",
       "      <td>Feb 24, 2020</td>\n",
       "      <td>4</td>\n",
       "      <td>google-cbrs-cpi-training</td>\n",
       "    </tr>\n",
       "    <tr>\n",
       "      <th>4</th>\n",
       "      <td>Excellent course and the training provided was...</td>\n",
       "      <td>By Sean G</td>\n",
       "      <td>Jun 18, 2020</td>\n",
       "      <td>4</td>\n",
       "      <td>google-cbrs-cpi-training</td>\n",
       "    </tr>\n",
       "  </tbody>\n",
       "</table>\n",
       "</div>"
      ],
      "text/plain": [
       "                                             reviews       reviewers  \\\n",
       "0  Pretty dry, but I was able to pass with just t...     By Robert S   \n",
       "1  would be a better experience if the video and ...  By Gabriel E R   \n",
       "2  Information was perfect! The program itself wa...      By Jacob D   \n",
       "3  A few grammatical mistakes on test made me do ...       By Dale B   \n",
       "4  Excellent course and the training provided was...       By Sean G   \n",
       "\n",
       "   date_reviews  rating                 course_id  \n",
       "0  Feb 12, 2020       4  google-cbrs-cpi-training  \n",
       "1  Sep 28, 2020       4  google-cbrs-cpi-training  \n",
       "2  Apr 08, 2020       4  google-cbrs-cpi-training  \n",
       "3  Feb 24, 2020       4  google-cbrs-cpi-training  \n",
       "4  Jun 18, 2020       4  google-cbrs-cpi-training  "
      ]
     },
     "execution_count": 79,
     "metadata": {},
     "output_type": "execute_result"
    }
   ],
   "source": [
    "#cursera reviews dataset\n",
    "cursera_re.head()"
   ]
  },
  {
   "cell_type": "code",
   "execution_count": 80,
   "metadata": {},
   "outputs": [
    {
     "name": "stdout",
     "output_type": "stream",
     "text": [
      "<class 'pandas.core.frame.DataFrame'>\n",
      "RangeIndex: 1454711 entries, 0 to 1454710\n",
      "Data columns (total 5 columns):\n",
      " #   Column        Non-Null Count    Dtype \n",
      "---  ------        --------------    ----- \n",
      " 0   reviews       1454571 non-null  object\n",
      " 1   reviewers     1454711 non-null  object\n",
      " 2   date_reviews  1454711 non-null  object\n",
      " 3   rating        1454711 non-null  int64 \n",
      " 4   course_id     1454711 non-null  object\n",
      "dtypes: int64(1), object(4)\n",
      "memory usage: 55.5+ MB\n"
     ]
    }
   ],
   "source": [
    "cursera_re.info()"
   ]
  },
  {
   "cell_type": "code",
   "execution_count": 81,
   "metadata": {},
   "outputs": [
    {
     "data": {
      "text/plain": [
       "934764"
      ]
     },
     "execution_count": 81,
     "metadata": {},
     "output_type": "execute_result"
    }
   ],
   "source": [
    "cursera_re.duplicated().sum()"
   ]
  },
  {
   "cell_type": "code",
   "execution_count": 82,
   "metadata": {},
   "outputs": [
    {
     "data": {
      "text/plain": [
       "996433"
      ]
     },
     "execution_count": 82,
     "metadata": {},
     "output_type": "execute_result"
    }
   ],
   "source": [
    "cursera_re.duplicated(\"reviews\").sum()"
   ]
  },
  {
   "cell_type": "code",
   "execution_count": 83,
   "metadata": {},
   "outputs": [
    {
     "data": {
      "text/plain": [
       "(842121, 842146, 842171)"
      ]
     },
     "execution_count": 83,
     "metadata": {},
     "output_type": "execute_result"
    }
   ],
   "source": [
    "df = cursera_re.loc[cursera_re['reviews'].duplicated(keep=False),'reviews']\n",
    "df\n",
    "df = df.groupby(df).apply(lambda x: tuple(x.index)).tolist()\n",
    "df[0]"
   ]
  },
  {
   "cell_type": "code",
   "execution_count": 84,
   "metadata": {},
   "outputs": [
    {
     "data": {
      "text/html": [
       "<div>\n",
       "<style scoped>\n",
       "    .dataframe tbody tr th:only-of-type {\n",
       "        vertical-align: middle;\n",
       "    }\n",
       "\n",
       "    .dataframe tbody tr th {\n",
       "        vertical-align: top;\n",
       "    }\n",
       "\n",
       "    .dataframe thead th {\n",
       "        text-align: right;\n",
       "    }\n",
       "</style>\n",
       "<table border=\"1\" class=\"dataframe\">\n",
       "  <thead>\n",
       "    <tr style=\"text-align: right;\">\n",
       "      <th></th>\n",
       "      <th>reviews</th>\n",
       "      <th>rating</th>\n",
       "    </tr>\n",
       "  </thead>\n",
       "  <tbody>\n",
       "    <tr>\n",
       "      <th>842121</th>\n",
       "      <td>\\tAs a general feedback, first I would ask you...</td>\n",
       "      <td>5</td>\n",
       "    </tr>\n",
       "    <tr>\n",
       "      <th>842146</th>\n",
       "      <td>\\tAs a general feedback, first I would ask you...</td>\n",
       "      <td>5</td>\n",
       "    </tr>\n",
       "    <tr>\n",
       "      <th>842171</th>\n",
       "      <td>\\tAs a general feedback, first I would ask you...</td>\n",
       "      <td>5</td>\n",
       "    </tr>\n",
       "  </tbody>\n",
       "</table>\n",
       "</div>"
      ],
      "text/plain": [
       "                                                  reviews  rating\n",
       "842121  \\tAs a general feedback, first I would ask you...       5\n",
       "842146  \\tAs a general feedback, first I would ask you...       5\n",
       "842171  \\tAs a general feedback, first I would ask you...       5"
      ]
     },
     "execution_count": 84,
     "metadata": {},
     "output_type": "execute_result"
    }
   ],
   "source": [
    "#Lets check if those indexes are related to the same course\n",
    "cursera_re.loc[[842121,842146,842171 ],['reviews', \"rating\"]]"
   ]
  },
  {
   "attachments": {},
   "cell_type": "markdown",
   "metadata": {},
   "source": [
    "We've now demonstrated that coursera_re dataset has plenty of duplicated reviews (same rating, same courses) We peoceed to drop them in order to use more accurate data"
   ]
  },
  {
   "cell_type": "code",
   "execution_count": 85,
   "metadata": {},
   "outputs": [
    {
     "data": {
      "text/plain": [
       "(1454711, 5)"
      ]
     },
     "execution_count": 85,
     "metadata": {},
     "output_type": "execute_result"
    }
   ],
   "source": [
    "cursera_re.shape"
   ]
  },
  {
   "cell_type": "code",
   "execution_count": 86,
   "metadata": {},
   "outputs": [],
   "source": [
    "cursera_re.drop_duplicates(subset='reviews', inplace=True)"
   ]
  },
  {
   "cell_type": "code",
   "execution_count": 87,
   "metadata": {},
   "outputs": [
    {
     "data": {
      "text/plain": [
       "(458278, 5)"
      ]
     },
     "execution_count": 87,
     "metadata": {},
     "output_type": "execute_result"
    }
   ],
   "source": [
    "cursera_re.shape"
   ]
  },
  {
   "cell_type": "code",
   "execution_count": 88,
   "metadata": {},
   "outputs": [
    {
     "data": {
      "text/plain": [
       "count    458278.000000\n",
       "mean          4.670244\n",
       "std           0.734659\n",
       "min           1.000000\n",
       "25%           5.000000\n",
       "50%           5.000000\n",
       "75%           5.000000\n",
       "max           5.000000\n",
       "Name: rating, dtype: float64"
      ]
     },
     "execution_count": 88,
     "metadata": {},
     "output_type": "execute_result"
    }
   ],
   "source": [
    "#We must check if the rating range is standarized from 1 to 5:\n",
    "cursera_re[\"rating\"].describe()"
   ]
  },
  {
   "attachments": {},
   "cell_type": "markdown",
   "metadata": {},
   "source": [
    "Now the duplicates are gone, lets see if we can combine both coursera dataframes by the \"course_ID\" column"
   ]
  },
  {
   "cell_type": "code",
   "execution_count": 89,
   "metadata": {},
   "outputs": [
    {
     "data": {
      "text/html": [
       "<div>\n",
       "<style scoped>\n",
       "    .dataframe tbody tr th:only-of-type {\n",
       "        vertical-align: middle;\n",
       "    }\n",
       "\n",
       "    .dataframe tbody tr th {\n",
       "        vertical-align: top;\n",
       "    }\n",
       "\n",
       "    .dataframe thead th {\n",
       "        text-align: right;\n",
       "    }\n",
       "</style>\n",
       "<table border=\"1\" class=\"dataframe\">\n",
       "  <thead>\n",
       "    <tr style=\"text-align: right;\">\n",
       "      <th></th>\n",
       "      <th>name</th>\n",
       "      <th>institution</th>\n",
       "      <th>course_url</th>\n",
       "      <th>course_id</th>\n",
       "      <th>reviews</th>\n",
       "      <th>reviewers</th>\n",
       "      <th>date_reviews</th>\n",
       "      <th>rating</th>\n",
       "      <th>course_id_re</th>\n",
       "    </tr>\n",
       "  </thead>\n",
       "  <tbody>\n",
       "    <tr>\n",
       "      <th>0</th>\n",
       "      <td>Machine Learning</td>\n",
       "      <td>Stanford University</td>\n",
       "      <td>https://www.coursera.org/learn/machine-learning</td>\n",
       "      <td>machine-learning</td>\n",
       "      <td>This is an extremely basic course. Machine lea...</td>\n",
       "      <td>By Deleted A</td>\n",
       "      <td>Mar 18, 2017</td>\n",
       "      <td>1</td>\n",
       "      <td>machine-learning</td>\n",
       "    </tr>\n",
       "    <tr>\n",
       "      <th>1</th>\n",
       "      <td>Machine Learning</td>\n",
       "      <td>Stanford University</td>\n",
       "      <td>https://www.coursera.org/learn/machine-learning</td>\n",
       "      <td>machine-learning</td>\n",
       "      <td>The course is ok but the certification procedu...</td>\n",
       "      <td>By Bruno C</td>\n",
       "      <td>Nov 09, 2015</td>\n",
       "      <td>1</td>\n",
       "      <td>machine-learning</td>\n",
       "    </tr>\n",
       "    <tr>\n",
       "      <th>2</th>\n",
       "      <td>Machine Learning</td>\n",
       "      <td>Stanford University</td>\n",
       "      <td>https://www.coursera.org/learn/machine-learning</td>\n",
       "      <td>machine-learning</td>\n",
       "      <td>I just started week 3 , I have to admit that I...</td>\n",
       "      <td>By Fadi</td>\n",
       "      <td>Apr 15, 2019</td>\n",
       "      <td>1</td>\n",
       "      <td>machine-learning</td>\n",
       "    </tr>\n",
       "    <tr>\n",
       "      <th>3</th>\n",
       "      <td>Machine Learning</td>\n",
       "      <td>Stanford University</td>\n",
       "      <td>https://www.coursera.org/learn/machine-learning</td>\n",
       "      <td>machine-learning</td>\n",
       "      <td>This course is absolute garbage.  You get no f...</td>\n",
       "      <td>By Mathew L</td>\n",
       "      <td>Sep 25, 2015</td>\n",
       "      <td>1</td>\n",
       "      <td>machine-learning</td>\n",
       "    </tr>\n",
       "    <tr>\n",
       "      <th>4</th>\n",
       "      <td>Machine Learning</td>\n",
       "      <td>Stanford University</td>\n",
       "      <td>https://www.coursera.org/learn/machine-learning</td>\n",
       "      <td>machine-learning</td>\n",
       "      <td>However good the material and lectures may be,...</td>\n",
       "      <td>By Rui C</td>\n",
       "      <td>Dec 12, 2015</td>\n",
       "      <td>1</td>\n",
       "      <td>machine-learning</td>\n",
       "    </tr>\n",
       "    <tr>\n",
       "      <th>...</th>\n",
       "      <td>...</td>\n",
       "      <td>...</td>\n",
       "      <td>...</td>\n",
       "      <td>...</td>\n",
       "      <td>...</td>\n",
       "      <td>...</td>\n",
       "      <td>...</td>\n",
       "      <td>...</td>\n",
       "      <td>...</td>\n",
       "    </tr>\n",
       "    <tr>\n",
       "      <th>458273</th>\n",
       "      <td>Managing as a Coach</td>\n",
       "      <td>University of California, Davis</td>\n",
       "      <td>https://www.coursera.org/learn/managing-as-a-c...</td>\n",
       "      <td>managing-as-a-coach</td>\n",
       "      <td>Was an eye opener.</td>\n",
       "      <td>By JN V</td>\n",
       "      <td>Nov 15, 2018</td>\n",
       "      <td>5</td>\n",
       "      <td>managing-as-a-coach</td>\n",
       "    </tr>\n",
       "    <tr>\n",
       "      <th>458274</th>\n",
       "      <td>Managing as a Coach</td>\n",
       "      <td>University of California, Davis</td>\n",
       "      <td>https://www.coursera.org/learn/managing-as-a-c...</td>\n",
       "      <td>managing-as-a-coach</td>\n",
       "      <td>good to attempt!!</td>\n",
       "      <td>By Ashish P</td>\n",
       "      <td>Feb 13, 2019</td>\n",
       "      <td>5</td>\n",
       "      <td>managing-as-a-coach</td>\n",
       "    </tr>\n",
       "    <tr>\n",
       "      <th>458275</th>\n",
       "      <td>Managing as a Coach</td>\n",
       "      <td>University of California, Davis</td>\n",
       "      <td>https://www.coursera.org/learn/managing-as-a-c...</td>\n",
       "      <td>managing-as-a-coach</td>\n",
       "      <td>Really useful!!</td>\n",
       "      <td>By Estella W</td>\n",
       "      <td>Aug 23, 2018</td>\n",
       "      <td>5</td>\n",
       "      <td>managing-as-a-coach</td>\n",
       "    </tr>\n",
       "    <tr>\n",
       "      <th>458276</th>\n",
       "      <td>Managing as a Coach</td>\n",
       "      <td>University of California, Davis</td>\n",
       "      <td>https://www.coursera.org/learn/managing-as-a-c...</td>\n",
       "      <td>managing-as-a-coach</td>\n",
       "      <td>For Good Coach</td>\n",
       "      <td>By Snehal K</td>\n",
       "      <td>Mar 10, 2016</td>\n",
       "      <td>5</td>\n",
       "      <td>managing-as-a-coach</td>\n",
       "    </tr>\n",
       "    <tr>\n",
       "      <th>458277</th>\n",
       "      <td>Managing as a Coach</td>\n",
       "      <td>University of California, Davis</td>\n",
       "      <td>https://www.coursera.org/learn/managing-as-a-c...</td>\n",
       "      <td>managing-as-a-coach</td>\n",
       "      <td>re</td>\n",
       "      <td>By Sachin M</td>\n",
       "      <td>Oct 11, 2017</td>\n",
       "      <td>5</td>\n",
       "      <td>managing-as-a-coach</td>\n",
       "    </tr>\n",
       "  </tbody>\n",
       "</table>\n",
       "<p>458278 rows × 9 columns</p>\n",
       "</div>"
      ],
      "text/plain": [
       "                       name                      institution  \\\n",
       "0          Machine Learning              Stanford University   \n",
       "1          Machine Learning              Stanford University   \n",
       "2          Machine Learning              Stanford University   \n",
       "3          Machine Learning              Stanford University   \n",
       "4          Machine Learning              Stanford University   \n",
       "...                     ...                              ...   \n",
       "458273  Managing as a Coach  University of California, Davis   \n",
       "458274  Managing as a Coach  University of California, Davis   \n",
       "458275  Managing as a Coach  University of California, Davis   \n",
       "458276  Managing as a Coach  University of California, Davis   \n",
       "458277  Managing as a Coach  University of California, Davis   \n",
       "\n",
       "                                               course_url  \\\n",
       "0         https://www.coursera.org/learn/machine-learning   \n",
       "1         https://www.coursera.org/learn/machine-learning   \n",
       "2         https://www.coursera.org/learn/machine-learning   \n",
       "3         https://www.coursera.org/learn/machine-learning   \n",
       "4         https://www.coursera.org/learn/machine-learning   \n",
       "...                                                   ...   \n",
       "458273  https://www.coursera.org/learn/managing-as-a-c...   \n",
       "458274  https://www.coursera.org/learn/managing-as-a-c...   \n",
       "458275  https://www.coursera.org/learn/managing-as-a-c...   \n",
       "458276  https://www.coursera.org/learn/managing-as-a-c...   \n",
       "458277  https://www.coursera.org/learn/managing-as-a-c...   \n",
       "\n",
       "                  course_id  \\\n",
       "0          machine-learning   \n",
       "1          machine-learning   \n",
       "2          machine-learning   \n",
       "3          machine-learning   \n",
       "4          machine-learning   \n",
       "...                     ...   \n",
       "458273  managing-as-a-coach   \n",
       "458274  managing-as-a-coach   \n",
       "458275  managing-as-a-coach   \n",
       "458276  managing-as-a-coach   \n",
       "458277  managing-as-a-coach   \n",
       "\n",
       "                                                  reviews     reviewers  \\\n",
       "0       This is an extremely basic course. Machine lea...  By Deleted A   \n",
       "1       The course is ok but the certification procedu...    By Bruno C   \n",
       "2       I just started week 3 , I have to admit that I...       By Fadi   \n",
       "3       This course is absolute garbage.  You get no f...   By Mathew L   \n",
       "4       However good the material and lectures may be,...      By Rui C   \n",
       "...                                                   ...           ...   \n",
       "458273                                 Was an eye opener.       By JN V   \n",
       "458274                                  good to attempt!!   By Ashish P   \n",
       "458275                                    Really useful!!  By Estella W   \n",
       "458276                                     For Good Coach   By Snehal K   \n",
       "458277                                                 re   By Sachin M   \n",
       "\n",
       "        date_reviews  rating         course_id_re  \n",
       "0       Mar 18, 2017       1     machine-learning  \n",
       "1       Nov 09, 2015       1     machine-learning  \n",
       "2       Apr 15, 2019       1     machine-learning  \n",
       "3       Sep 25, 2015       1     machine-learning  \n",
       "4       Dec 12, 2015       1     machine-learning  \n",
       "...              ...     ...                  ...  \n",
       "458273  Nov 15, 2018       5  managing-as-a-coach  \n",
       "458274  Feb 13, 2019       5  managing-as-a-coach  \n",
       "458275  Aug 23, 2018       5  managing-as-a-coach  \n",
       "458276  Mar 10, 2016       5  managing-as-a-coach  \n",
       "458277  Oct 11, 2017       5  managing-as-a-coach  \n",
       "\n",
       "[458278 rows x 9 columns]"
      ]
     },
     "execution_count": 89,
     "metadata": {},
     "output_type": "execute_result"
    }
   ],
   "source": [
    "cursera_re.rename(columns = {\"course_id\" : \"course_id_re\"}, inplace=True)   #rename id from cursera_re DF\n",
    "cursera_df = cursera_co.merge(cursera_re, left_on = \"course_id\", right_on= \"course_id_re\")  #merging both dataframes\n",
    "cursera_df"
   ]
  },
  {
   "cell_type": "code",
   "execution_count": 90,
   "metadata": {},
   "outputs": [
    {
     "name": "stdout",
     "output_type": "stream",
     "text": [
      "<class 'pandas.core.frame.DataFrame'>\n",
      "Int64Index: 458278 entries, 0 to 458277\n",
      "Data columns (total 9 columns):\n",
      " #   Column        Non-Null Count   Dtype \n",
      "---  ------        --------------   ----- \n",
      " 0   name          458278 non-null  object\n",
      " 1   institution   458278 non-null  object\n",
      " 2   course_url    458278 non-null  object\n",
      " 3   course_id     458278 non-null  object\n",
      " 4   reviews       458277 non-null  object\n",
      " 5   reviewers     458278 non-null  object\n",
      " 6   date_reviews  458278 non-null  object\n",
      " 7   rating        458278 non-null  int64 \n",
      " 8   course_id_re  458278 non-null  object\n",
      "dtypes: int64(1), object(8)\n",
      "memory usage: 35.0+ MB\n"
     ]
    }
   ],
   "source": [
    "cursera_df.info()"
   ]
  },
  {
   "attachments": {},
   "cell_type": "markdown",
   "metadata": {},
   "source": [
    "---"
   ]
  },
  {
   "attachments": {},
   "cell_type": "markdown",
   "metadata": {},
   "source": [
    "---"
   ]
  },
  {
   "attachments": {},
   "cell_type": "markdown",
   "metadata": {},
   "source": [
    "## EDX"
   ]
  },
  {
   "cell_type": "code",
   "execution_count": 91,
   "metadata": {},
   "outputs": [
    {
     "data": {
      "text/html": [
       "<div>\n",
       "<style scoped>\n",
       "    .dataframe tbody tr th:only-of-type {\n",
       "        vertical-align: middle;\n",
       "    }\n",
       "\n",
       "    .dataframe tbody tr th {\n",
       "        vertical-align: top;\n",
       "    }\n",
       "\n",
       "    .dataframe thead th {\n",
       "        text-align: right;\n",
       "    }\n",
       "</style>\n",
       "<table border=\"1\" class=\"dataframe\">\n",
       "  <thead>\n",
       "    <tr style=\"text-align: right;\">\n",
       "      <th></th>\n",
       "      <th>title</th>\n",
       "      <th>summary</th>\n",
       "      <th>n_enrolled</th>\n",
       "      <th>course_type</th>\n",
       "      <th>institution</th>\n",
       "      <th>instructors</th>\n",
       "      <th>Level</th>\n",
       "      <th>subject</th>\n",
       "      <th>language</th>\n",
       "      <th>subtitles</th>\n",
       "      <th>course_effort</th>\n",
       "      <th>course_length</th>\n",
       "      <th>price</th>\n",
       "      <th>course_description</th>\n",
       "      <th>course_syllabus</th>\n",
       "      <th>course_url</th>\n",
       "    </tr>\n",
       "  </thead>\n",
       "  <tbody>\n",
       "    <tr>\n",
       "      <th>0</th>\n",
       "      <td>How to Learn Online</td>\n",
       "      <td>Learn essential strategies for successful onli...</td>\n",
       "      <td>124,980</td>\n",
       "      <td>Self-paced on your time</td>\n",
       "      <td>edX</td>\n",
       "      <td>Nina Huntemann-Robyn Belair-Ben Piscopo</td>\n",
       "      <td>Introductory</td>\n",
       "      <td>Education &amp; Teacher Training</td>\n",
       "      <td>English</td>\n",
       "      <td>English</td>\n",
       "      <td>2–3 hours per week</td>\n",
       "      <td>2 Weeks</td>\n",
       "      <td>FREE-Add a Verified Certificate for $49 USD</td>\n",
       "      <td>Designed for those who are new to elearning, t...</td>\n",
       "      <td>Welcome - We start with opportunities to meet ...</td>\n",
       "      <td>https://www.edx.org/course/how-to-learn-online</td>\n",
       "    </tr>\n",
       "    <tr>\n",
       "      <th>1</th>\n",
       "      <td>Programming for Everybody (Getting Started wit...</td>\n",
       "      <td>This course is a \"no prerequisite\" introductio...</td>\n",
       "      <td>293,864</td>\n",
       "      <td>Self-paced on your time</td>\n",
       "      <td>The University of Michigan</td>\n",
       "      <td>Charles Severance</td>\n",
       "      <td>Introductory</td>\n",
       "      <td>Computer Science</td>\n",
       "      <td>English</td>\n",
       "      <td>English</td>\n",
       "      <td>2–4 hours per week</td>\n",
       "      <td>7 Weeks</td>\n",
       "      <td>FREE-Add a Verified Certificate for $49 USD</td>\n",
       "      <td>This course aims to teach everyone the basics ...</td>\n",
       "      <td>NaN</td>\n",
       "      <td>https://www.edx.org/course/programming-for-eve...</td>\n",
       "    </tr>\n",
       "    <tr>\n",
       "      <th>2</th>\n",
       "      <td>CS50's Introduction to Computer Science</td>\n",
       "      <td>An introduction to the intellectual enterprise...</td>\n",
       "      <td>2,442,271</td>\n",
       "      <td>Self-paced on your time</td>\n",
       "      <td>Harvard University</td>\n",
       "      <td>David J. Malan-Doug Lloyd-Brian Yu</td>\n",
       "      <td>Introductory</td>\n",
       "      <td>Computer Science</td>\n",
       "      <td>English</td>\n",
       "      <td>English</td>\n",
       "      <td>6–18 hours per week</td>\n",
       "      <td>12 Weeks</td>\n",
       "      <td>FREE-Add a Verified Certificate for $90 USD</td>\n",
       "      <td>This is CS50x , Harvard University's introduct...</td>\n",
       "      <td>NaN</td>\n",
       "      <td>https://www.edx.org/course/cs50s-introduction-...</td>\n",
       "    </tr>\n",
       "    <tr>\n",
       "      <th>3</th>\n",
       "      <td>The Analytics Edge</td>\n",
       "      <td>Through inspiring examples and stories, discov...</td>\n",
       "      <td>129,555</td>\n",
       "      <td>Instructor-led on a course schedule</td>\n",
       "      <td>Massachusetts Institute of Technology</td>\n",
       "      <td>Dimitris Bertsimas-Allison O'Hair-John Silberh...</td>\n",
       "      <td>Intermediate</td>\n",
       "      <td>Data Analysis &amp; Statistics</td>\n",
       "      <td>English</td>\n",
       "      <td>English</td>\n",
       "      <td>10–15 hours per week</td>\n",
       "      <td>13 Weeks</td>\n",
       "      <td>FREE-Add a Verified Certificate for $199 USD</td>\n",
       "      <td>In the last decade, the amount of data availab...</td>\n",
       "      <td>NaN</td>\n",
       "      <td>https://www.edx.org/course/the-analytics-edge</td>\n",
       "    </tr>\n",
       "    <tr>\n",
       "      <th>4</th>\n",
       "      <td>Marketing Analytics: Marketing Measurement Str...</td>\n",
       "      <td>This course is part of a MicroMasters® Program</td>\n",
       "      <td>81,140</td>\n",
       "      <td>Self-paced on your time</td>\n",
       "      <td>University of California, Berkeley</td>\n",
       "      <td>Stephan Sorger</td>\n",
       "      <td>Introductory</td>\n",
       "      <td>Computer Science</td>\n",
       "      <td>English</td>\n",
       "      <td>English</td>\n",
       "      <td>5–7 hours per week</td>\n",
       "      <td>4 Weeks</td>\n",
       "      <td>FREE-Add a Verified Certificate for $249 USD</td>\n",
       "      <td>Begin your journey in a new career in marketin...</td>\n",
       "      <td>NaN</td>\n",
       "      <td>https://www.edx.org/course/marketing-analytics...</td>\n",
       "    </tr>\n",
       "  </tbody>\n",
       "</table>\n",
       "</div>"
      ],
      "text/plain": [
       "                                               title  \\\n",
       "0                                How to Learn Online   \n",
       "1  Programming for Everybody (Getting Started wit...   \n",
       "2            CS50's Introduction to Computer Science   \n",
       "3                                 The Analytics Edge   \n",
       "4  Marketing Analytics: Marketing Measurement Str...   \n",
       "\n",
       "                                             summary n_enrolled  \\\n",
       "0  Learn essential strategies for successful onli...    124,980   \n",
       "1  This course is a \"no prerequisite\" introductio...    293,864   \n",
       "2  An introduction to the intellectual enterprise...  2,442,271   \n",
       "3  Through inspiring examples and stories, discov...    129,555   \n",
       "4     This course is part of a MicroMasters® Program     81,140   \n",
       "\n",
       "                           course_type                            institution  \\\n",
       "0              Self-paced on your time                                    edX   \n",
       "1              Self-paced on your time             The University of Michigan   \n",
       "2              Self-paced on your time                     Harvard University   \n",
       "3  Instructor-led on a course schedule  Massachusetts Institute of Technology   \n",
       "4              Self-paced on your time     University of California, Berkeley   \n",
       "\n",
       "                                         instructors         Level  \\\n",
       "0            Nina Huntemann-Robyn Belair-Ben Piscopo  Introductory   \n",
       "1                                  Charles Severance  Introductory   \n",
       "2                 David J. Malan-Doug Lloyd-Brian Yu  Introductory   \n",
       "3  Dimitris Bertsimas-Allison O'Hair-John Silberh...  Intermediate   \n",
       "4                                     Stephan Sorger  Introductory   \n",
       "\n",
       "                        subject language subtitles         course_effort  \\\n",
       "0  Education & Teacher Training  English   English    2–3 hours per week   \n",
       "1              Computer Science  English   English    2–4 hours per week   \n",
       "2              Computer Science  English   English   6–18 hours per week   \n",
       "3    Data Analysis & Statistics  English   English  10–15 hours per week   \n",
       "4              Computer Science  English   English    5–7 hours per week   \n",
       "\n",
       "  course_length                                         price  \\\n",
       "0       2 Weeks   FREE-Add a Verified Certificate for $49 USD   \n",
       "1       7 Weeks   FREE-Add a Verified Certificate for $49 USD   \n",
       "2      12 Weeks   FREE-Add a Verified Certificate for $90 USD   \n",
       "3      13 Weeks  FREE-Add a Verified Certificate for $199 USD   \n",
       "4       4 Weeks  FREE-Add a Verified Certificate for $249 USD   \n",
       "\n",
       "                                  course_description  \\\n",
       "0  Designed for those who are new to elearning, t...   \n",
       "1  This course aims to teach everyone the basics ...   \n",
       "2  This is CS50x , Harvard University's introduct...   \n",
       "3  In the last decade, the amount of data availab...   \n",
       "4  Begin your journey in a new career in marketin...   \n",
       "\n",
       "                                     course_syllabus  \\\n",
       "0  Welcome - We start with opportunities to meet ...   \n",
       "1                                                NaN   \n",
       "2                                                NaN   \n",
       "3                                                NaN   \n",
       "4                                                NaN   \n",
       "\n",
       "                                          course_url  \n",
       "0     https://www.edx.org/course/how-to-learn-online  \n",
       "1  https://www.edx.org/course/programming-for-eve...  \n",
       "2  https://www.edx.org/course/cs50s-introduction-...  \n",
       "3      https://www.edx.org/course/the-analytics-edge  \n",
       "4  https://www.edx.org/course/marketing-analytics...  "
      ]
     },
     "execution_count": 91,
     "metadata": {},
     "output_type": "execute_result"
    }
   ],
   "source": [
    "edx_co.head()"
   ]
  },
  {
   "cell_type": "code",
   "execution_count": 92,
   "metadata": {},
   "outputs": [
    {
     "data": {
      "text/html": [
       "<div>\n",
       "<style scoped>\n",
       "    .dataframe tbody tr th:only-of-type {\n",
       "        vertical-align: middle;\n",
       "    }\n",
       "\n",
       "    .dataframe tbody tr th {\n",
       "        vertical-align: top;\n",
       "    }\n",
       "\n",
       "    .dataframe thead th {\n",
       "        text-align: right;\n",
       "    }\n",
       "</style>\n",
       "<table border=\"1\" class=\"dataframe\">\n",
       "  <thead>\n",
       "    <tr style=\"text-align: right;\">\n",
       "      <th></th>\n",
       "      <th>title</th>\n",
       "      <th>summary</th>\n",
       "      <th>n_enrolled</th>\n",
       "      <th>course_type</th>\n",
       "      <th>institution</th>\n",
       "      <th>instructors</th>\n",
       "      <th>Level</th>\n",
       "      <th>subject</th>\n",
       "      <th>language</th>\n",
       "      <th>subtitles</th>\n",
       "      <th>course_effort</th>\n",
       "      <th>course_length</th>\n",
       "      <th>price</th>\n",
       "      <th>course_description</th>\n",
       "      <th>course_syllabus</th>\n",
       "      <th>course_url</th>\n",
       "    </tr>\n",
       "  </thead>\n",
       "  <tbody>\n",
       "    <tr>\n",
       "      <th>count</th>\n",
       "      <td>975</td>\n",
       "      <td>922</td>\n",
       "      <td>855</td>\n",
       "      <td>975</td>\n",
       "      <td>975</td>\n",
       "      <td>972</td>\n",
       "      <td>975</td>\n",
       "      <td>975</td>\n",
       "      <td>975</td>\n",
       "      <td>972</td>\n",
       "      <td>975</td>\n",
       "      <td>975</td>\n",
       "      <td>975</td>\n",
       "      <td>935</td>\n",
       "      <td>417</td>\n",
       "      <td>975</td>\n",
       "    </tr>\n",
       "    <tr>\n",
       "      <th>unique</th>\n",
       "      <td>972</td>\n",
       "      <td>887</td>\n",
       "      <td>849</td>\n",
       "      <td>2</td>\n",
       "      <td>111</td>\n",
       "      <td>775</td>\n",
       "      <td>3</td>\n",
       "      <td>31</td>\n",
       "      <td>9</td>\n",
       "      <td>33</td>\n",
       "      <td>53</td>\n",
       "      <td>18</td>\n",
       "      <td>47</td>\n",
       "      <td>932</td>\n",
       "      <td>412</td>\n",
       "      <td>974</td>\n",
       "    </tr>\n",
       "    <tr>\n",
       "      <th>top</th>\n",
       "      <td>Introduction to Probability</td>\n",
       "      <td>This course is part of a MicroMasters® Program</td>\n",
       "      <td>97,291</td>\n",
       "      <td>Self-paced on your time</td>\n",
       "      <td>Harvard University</td>\n",
       "      <td>Rafael Irizarry</td>\n",
       "      <td>Introductory</td>\n",
       "      <td>Computer Science</td>\n",
       "      <td>English</td>\n",
       "      <td>English</td>\n",
       "      <td>2–4 hours per week</td>\n",
       "      <td>4 Weeks</td>\n",
       "      <td>FREE-Add a Verified Certificate for $49 USD</td>\n",
       "      <td>About the Database Series of Courses\"Databases...</td>\n",
       "      <td>Course Outline:</td>\n",
       "      <td>https://www.edx.org/course/introduction-to-pro...</td>\n",
       "    </tr>\n",
       "    <tr>\n",
       "      <th>freq</th>\n",
       "      <td>2</td>\n",
       "      <td>15</td>\n",
       "      <td>2</td>\n",
       "      <td>917</td>\n",
       "      <td>104</td>\n",
       "      <td>9</td>\n",
       "      <td>621</td>\n",
       "      <td>166</td>\n",
       "      <td>777</td>\n",
       "      <td>713</td>\n",
       "      <td>108</td>\n",
       "      <td>194</td>\n",
       "      <td>270</td>\n",
       "      <td>3</td>\n",
       "      <td>3</td>\n",
       "      <td>2</td>\n",
       "    </tr>\n",
       "  </tbody>\n",
       "</table>\n",
       "</div>"
      ],
      "text/plain": [
       "                              title  \\\n",
       "count                           975   \n",
       "unique                          972   \n",
       "top     Introduction to Probability   \n",
       "freq                              2   \n",
       "\n",
       "                                               summary n_enrolled  \\\n",
       "count                                              922        855   \n",
       "unique                                             887        849   \n",
       "top     This course is part of a MicroMasters® Program     97,291   \n",
       "freq                                                15          2   \n",
       "\n",
       "                    course_type         institution      instructors  \\\n",
       "count                       975                 975              972   \n",
       "unique                        2                 111              775   \n",
       "top     Self-paced on your time  Harvard University  Rafael Irizarry   \n",
       "freq                        917                 104                9   \n",
       "\n",
       "               Level           subject language subtitles       course_effort  \\\n",
       "count            975               975      975       972                 975   \n",
       "unique             3                31        9        33                  53   \n",
       "top     Introductory  Computer Science  English   English  2–4 hours per week   \n",
       "freq             621               166      777       713                 108   \n",
       "\n",
       "       course_length                                        price  \\\n",
       "count            975                                          975   \n",
       "unique            18                                           47   \n",
       "top          4 Weeks  FREE-Add a Verified Certificate for $49 USD   \n",
       "freq             194                                          270   \n",
       "\n",
       "                                       course_description  course_syllabus  \\\n",
       "count                                                 935              417   \n",
       "unique                                                932              412   \n",
       "top     About the Database Series of Courses\"Databases...  Course Outline:   \n",
       "freq                                                    3                3   \n",
       "\n",
       "                                               course_url  \n",
       "count                                                 975  \n",
       "unique                                                974  \n",
       "top     https://www.edx.org/course/introduction-to-pro...  \n",
       "freq                                                    2  "
      ]
     },
     "execution_count": 92,
     "metadata": {},
     "output_type": "execute_result"
    }
   ],
   "source": [
    "edx_co.describe()"
   ]
  },
  {
   "attachments": {},
   "cell_type": "markdown",
   "metadata": {},
   "source": [
    "---"
   ]
  },
  {
   "attachments": {},
   "cell_type": "markdown",
   "metadata": {},
   "source": [
    "## UDEMY"
   ]
  },
  {
   "cell_type": "code",
   "execution_count": 93,
   "metadata": {},
   "outputs": [
    {
     "data": {
      "text/html": [
       "<div>\n",
       "<style scoped>\n",
       "    .dataframe tbody tr th:only-of-type {\n",
       "        vertical-align: middle;\n",
       "    }\n",
       "\n",
       "    .dataframe tbody tr th {\n",
       "        vertical-align: top;\n",
       "    }\n",
       "\n",
       "    .dataframe thead th {\n",
       "        text-align: right;\n",
       "    }\n",
       "</style>\n",
       "<table border=\"1\" class=\"dataframe\">\n",
       "  <thead>\n",
       "    <tr style=\"text-align: right;\">\n",
       "      <th></th>\n",
       "      <th>course_id</th>\n",
       "      <th>course_title</th>\n",
       "      <th>url</th>\n",
       "      <th>is_paid</th>\n",
       "      <th>price</th>\n",
       "      <th>num_subscribers</th>\n",
       "      <th>num_reviews</th>\n",
       "      <th>num_lectures</th>\n",
       "      <th>level</th>\n",
       "      <th>content_duration</th>\n",
       "      <th>published_timestamp</th>\n",
       "      <th>subject</th>\n",
       "    </tr>\n",
       "  </thead>\n",
       "  <tbody>\n",
       "    <tr>\n",
       "      <th>0</th>\n",
       "      <td>1070968</td>\n",
       "      <td>Ultimate Investment Banking Course</td>\n",
       "      <td>https://www.udemy.com/ultimate-investment-bank...</td>\n",
       "      <td>True</td>\n",
       "      <td>200</td>\n",
       "      <td>2147</td>\n",
       "      <td>23</td>\n",
       "      <td>51</td>\n",
       "      <td>All Levels</td>\n",
       "      <td>1.5</td>\n",
       "      <td>2017-01-18T20:58:58Z</td>\n",
       "      <td>Business Finance</td>\n",
       "    </tr>\n",
       "    <tr>\n",
       "      <th>1</th>\n",
       "      <td>1113822</td>\n",
       "      <td>Complete GST Course &amp; Certification - Grow You...</td>\n",
       "      <td>https://www.udemy.com/goods-and-services-tax/</td>\n",
       "      <td>True</td>\n",
       "      <td>75</td>\n",
       "      <td>2792</td>\n",
       "      <td>923</td>\n",
       "      <td>274</td>\n",
       "      <td>All Levels</td>\n",
       "      <td>39.0</td>\n",
       "      <td>2017-03-09T16:34:20Z</td>\n",
       "      <td>Business Finance</td>\n",
       "    </tr>\n",
       "    <tr>\n",
       "      <th>2</th>\n",
       "      <td>1006314</td>\n",
       "      <td>Financial Modeling for Business Analysts and C...</td>\n",
       "      <td>https://www.udemy.com/financial-modeling-for-b...</td>\n",
       "      <td>True</td>\n",
       "      <td>45</td>\n",
       "      <td>2174</td>\n",
       "      <td>74</td>\n",
       "      <td>51</td>\n",
       "      <td>Intermediate Level</td>\n",
       "      <td>2.5</td>\n",
       "      <td>2016-12-19T19:26:30Z</td>\n",
       "      <td>Business Finance</td>\n",
       "    </tr>\n",
       "    <tr>\n",
       "      <th>3</th>\n",
       "      <td>1210588</td>\n",
       "      <td>Beginner to Pro - Financial Analysis in Excel ...</td>\n",
       "      <td>https://www.udemy.com/complete-excel-finance-c...</td>\n",
       "      <td>True</td>\n",
       "      <td>95</td>\n",
       "      <td>2451</td>\n",
       "      <td>11</td>\n",
       "      <td>36</td>\n",
       "      <td>All Levels</td>\n",
       "      <td>3.0</td>\n",
       "      <td>2017-05-30T20:07:24Z</td>\n",
       "      <td>Business Finance</td>\n",
       "    </tr>\n",
       "    <tr>\n",
       "      <th>4</th>\n",
       "      <td>1011058</td>\n",
       "      <td>How To Maximize Your Profits Trading Options</td>\n",
       "      <td>https://www.udemy.com/how-to-maximize-your-pro...</td>\n",
       "      <td>True</td>\n",
       "      <td>200</td>\n",
       "      <td>1276</td>\n",
       "      <td>45</td>\n",
       "      <td>26</td>\n",
       "      <td>Intermediate Level</td>\n",
       "      <td>2.0</td>\n",
       "      <td>2016-12-13T14:57:18Z</td>\n",
       "      <td>Business Finance</td>\n",
       "    </tr>\n",
       "  </tbody>\n",
       "</table>\n",
       "</div>"
      ],
      "text/plain": [
       "   course_id                                       course_title  \\\n",
       "0    1070968                 Ultimate Investment Banking Course   \n",
       "1    1113822  Complete GST Course & Certification - Grow You...   \n",
       "2    1006314  Financial Modeling for Business Analysts and C...   \n",
       "3    1210588  Beginner to Pro - Financial Analysis in Excel ...   \n",
       "4    1011058       How To Maximize Your Profits Trading Options   \n",
       "\n",
       "                                                 url  is_paid  price  \\\n",
       "0  https://www.udemy.com/ultimate-investment-bank...     True    200   \n",
       "1      https://www.udemy.com/goods-and-services-tax/     True     75   \n",
       "2  https://www.udemy.com/financial-modeling-for-b...     True     45   \n",
       "3  https://www.udemy.com/complete-excel-finance-c...     True     95   \n",
       "4  https://www.udemy.com/how-to-maximize-your-pro...     True    200   \n",
       "\n",
       "   num_subscribers  num_reviews  num_lectures               level  \\\n",
       "0             2147           23            51          All Levels   \n",
       "1             2792          923           274          All Levels   \n",
       "2             2174           74            51  Intermediate Level   \n",
       "3             2451           11            36          All Levels   \n",
       "4             1276           45            26  Intermediate Level   \n",
       "\n",
       "   content_duration   published_timestamp           subject  \n",
       "0               1.5  2017-01-18T20:58:58Z  Business Finance  \n",
       "1              39.0  2017-03-09T16:34:20Z  Business Finance  \n",
       "2               2.5  2016-12-19T19:26:30Z  Business Finance  \n",
       "3               3.0  2017-05-30T20:07:24Z  Business Finance  \n",
       "4               2.0  2016-12-13T14:57:18Z  Business Finance  "
      ]
     },
     "execution_count": 93,
     "metadata": {},
     "output_type": "execute_result"
    }
   ],
   "source": [
    "udemy_co.head()"
   ]
  },
  {
   "cell_type": "code",
   "execution_count": 94,
   "metadata": {},
   "outputs": [
    {
     "name": "stdout",
     "output_type": "stream",
     "text": [
      "<class 'pandas.core.frame.DataFrame'>\n",
      "RangeIndex: 3678 entries, 0 to 3677\n",
      "Data columns (total 12 columns):\n",
      " #   Column               Non-Null Count  Dtype  \n",
      "---  ------               --------------  -----  \n",
      " 0   course_id            3678 non-null   int64  \n",
      " 1   course_title         3678 non-null   object \n",
      " 2   url                  3678 non-null   object \n",
      " 3   is_paid              3678 non-null   bool   \n",
      " 4   price                3678 non-null   int64  \n",
      " 5   num_subscribers      3678 non-null   int64  \n",
      " 6   num_reviews          3678 non-null   int64  \n",
      " 7   num_lectures         3678 non-null   int64  \n",
      " 8   level                3678 non-null   object \n",
      " 9   content_duration     3678 non-null   float64\n",
      " 10  published_timestamp  3678 non-null   object \n",
      " 11  subject              3678 non-null   object \n",
      "dtypes: bool(1), float64(1), int64(5), object(5)\n",
      "memory usage: 319.8+ KB\n"
     ]
    }
   ],
   "source": [
    "udemy_co.info()"
   ]
  },
  {
   "attachments": {},
   "cell_type": "markdown",
   "metadata": {},
   "source": [
    "---"
   ]
  },
  {
   "attachments": {},
   "cell_type": "markdown",
   "metadata": {},
   "source": [
    "## CURSERA"
   ]
  },
  {
   "cell_type": "code",
   "execution_count": 95,
   "metadata": {},
   "outputs": [
    {
     "data": {
      "text/plain": [
       "<matplotlib.lines.Line2D at 0x19f2635e2f0>"
      ]
     },
     "execution_count": 95,
     "metadata": {},
     "output_type": "execute_result"
    },
    {
     "data": {
      "image/png": "[encoded data removed]",
      "text/plain": [
       "<Figure size 800x300 with 1 Axes>"
      ]
     },
     "metadata": {},
     "output_type": "display_data"
    }
   ],
   "source": [
    "#Plotting the distribution of \"rating\" for Coursera\n",
    "ax = cursera_df['rating'].plot(kind='density', figsize=(8,3)) \n",
    "ax.axvline(cursera_df['rating'].mean(), color='red')\n",
    "ax.axvline(cursera_df['rating'].median(), color='green')"
   ]
  },
  {
   "attachments": {},
   "cell_type": "markdown",
   "metadata": {},
   "source": [
    "The mean is nearly 5, and median is between 4 and 5...\n",
    "\n",
    "Therefore, we can confirm that the mayority of cursera´s courses are rated >= 4"
   ]
  },
  {
   "attachments": {},
   "cell_type": "markdown",
   "metadata": {},
   "source": [
    "Let´s see if we can find out if \"rating\" has any relation with the \"institution\" type (university or not)"
   ]
  },
  {
   "cell_type": "code",
   "execution_count": 96,
   "metadata": {},
   "outputs": [
    {
     "data": {
      "text/plain": [
       "132"
      ]
     },
     "execution_count": 96,
     "metadata": {},
     "output_type": "execute_result"
    }
   ],
   "source": [
    "len(cursera_df[\"institution\"].unique())"
   ]
  },
  {
   "attachments": {},
   "cell_type": "markdown",
   "metadata": {},
   "source": [
    "There are 132 differnt institution in cursera´s DF, let´s see if we can separete the univeristy institutions from the rest."
   ]
  },
  {
   "cell_type": "code",
   "execution_count": 97,
   "metadata": {},
   "outputs": [],
   "source": [
    "#Create \"university\" column, and place a YES where institution has \"university\" \n",
    "cursera_df.loc[cursera_df['institution'].str.contains('University'), 'university'] = \"Yes\"  \n",
    "#Now replace NO where university is False\n",
    "cursera_df[\"university\"].fillna(value= \"No\", inplace=True) "
   ]
  },
  {
   "cell_type": "code",
   "execution_count": 98,
   "metadata": {},
   "outputs": [
    {
     "data": {
      "text/plain": [
       "array(['Yes', 'No'], dtype=object)"
      ]
     },
     "execution_count": 98,
     "metadata": {},
     "output_type": "execute_result"
    }
   ],
   "source": [
    "#checking the output\n",
    "cursera_df[\"university\"].unique()"
   ]
  },
  {
   "cell_type": "code",
   "execution_count": 99,
   "metadata": {},
   "outputs": [],
   "source": [
    "cursera_university = (cursera_df[cursera_df[\"university\"] == \"Yes\"])\n",
    "cursera_other = (cursera_df[cursera_df[\"university\"] == \"No\"])"
   ]
  },
  {
   "cell_type": "code",
   "execution_count": 112,
   "metadata": {},
   "outputs": [
    {
     "name": "stdout",
     "output_type": "stream",
     "text": [
      "4.687412390413772\n",
      "4.6393334433261835\n"
     ]
    }
   ],
   "source": [
    "#University mean\n",
    "print(cursera_university['rating'].mean())\n",
    "#Other mean\n",
    "print(cursera_other['rating'].mean())"
   ]
  },
  {
   "attachments": {},
   "cell_type": "markdown",
   "metadata": {},
   "source": [
    "At this point it seems that even if the course is related to a univeristy, this doesnt impact on rating's mean"
   ]
  },
  {
   "cell_type": "code",
   "execution_count": 135,
   "metadata": {},
   "outputs": [
    {
     "data": {
      "text/html": [
       "<div>\n",
       "<style scoped>\n",
       "    .dataframe tbody tr th:only-of-type {\n",
       "        vertical-align: middle;\n",
       "    }\n",
       "\n",
       "    .dataframe tbody tr th {\n",
       "        vertical-align: top;\n",
       "    }\n",
       "\n",
       "    .dataframe thead th {\n",
       "        text-align: right;\n",
       "    }\n",
       "</style>\n",
       "<table border=\"1\" class=\"dataframe\">\n",
       "  <thead>\n",
       "    <tr style=\"text-align: right;\">\n",
       "      <th></th>\n",
       "      <th>name</th>\n",
       "      <th>institution</th>\n",
       "      <th>course_url</th>\n",
       "      <th>course_id</th>\n",
       "      <th>reviews</th>\n",
       "      <th>reviewers</th>\n",
       "      <th>date_reviews</th>\n",
       "      <th>rating</th>\n",
       "      <th>course_id_re</th>\n",
       "      <th>university</th>\n",
       "    </tr>\n",
       "  </thead>\n",
       "  <tbody>\n",
       "    <tr>\n",
       "      <th>0</th>\n",
       "      <td>Machine Learning</td>\n",
       "      <td>Stanford University</td>\n",
       "      <td>https://www.coursera.org/learn/machine-learning</td>\n",
       "      <td>machine-learning</td>\n",
       "      <td>This is an extremely basic course. Machine lea...</td>\n",
       "      <td>By Deleted A</td>\n",
       "      <td>Mar 18, 2017</td>\n",
       "      <td>1</td>\n",
       "      <td>machine-learning</td>\n",
       "      <td>Yes</td>\n",
       "    </tr>\n",
       "    <tr>\n",
       "      <th>1</th>\n",
       "      <td>Machine Learning</td>\n",
       "      <td>Stanford University</td>\n",
       "      <td>https://www.coursera.org/learn/machine-learning</td>\n",
       "      <td>machine-learning</td>\n",
       "      <td>The course is ok but the certification procedu...</td>\n",
       "      <td>By Bruno C</td>\n",
       "      <td>Nov 09, 2015</td>\n",
       "      <td>1</td>\n",
       "      <td>machine-learning</td>\n",
       "      <td>Yes</td>\n",
       "    </tr>\n",
       "    <tr>\n",
       "      <th>2</th>\n",
       "      <td>Machine Learning</td>\n",
       "      <td>Stanford University</td>\n",
       "      <td>https://www.coursera.org/learn/machine-learning</td>\n",
       "      <td>machine-learning</td>\n",
       "      <td>I just started week 3 , I have to admit that I...</td>\n",
       "      <td>By Fadi</td>\n",
       "      <td>Apr 15, 2019</td>\n",
       "      <td>1</td>\n",
       "      <td>machine-learning</td>\n",
       "      <td>Yes</td>\n",
       "    </tr>\n",
       "    <tr>\n",
       "      <th>3</th>\n",
       "      <td>Machine Learning</td>\n",
       "      <td>Stanford University</td>\n",
       "      <td>https://www.coursera.org/learn/machine-learning</td>\n",
       "      <td>machine-learning</td>\n",
       "      <td>This course is absolute garbage.  You get no f...</td>\n",
       "      <td>By Mathew L</td>\n",
       "      <td>Sep 25, 2015</td>\n",
       "      <td>1</td>\n",
       "      <td>machine-learning</td>\n",
       "      <td>Yes</td>\n",
       "    </tr>\n",
       "    <tr>\n",
       "      <th>4</th>\n",
       "      <td>Machine Learning</td>\n",
       "      <td>Stanford University</td>\n",
       "      <td>https://www.coursera.org/learn/machine-learning</td>\n",
       "      <td>machine-learning</td>\n",
       "      <td>However good the material and lectures may be,...</td>\n",
       "      <td>By Rui C</td>\n",
       "      <td>Dec 12, 2015</td>\n",
       "      <td>1</td>\n",
       "      <td>machine-learning</td>\n",
       "      <td>Yes</td>\n",
       "    </tr>\n",
       "  </tbody>\n",
       "</table>\n",
       "</div>"
      ],
      "text/plain": [
       "               name          institution  \\\n",
       "0  Machine Learning  Stanford University   \n",
       "1  Machine Learning  Stanford University   \n",
       "2  Machine Learning  Stanford University   \n",
       "3  Machine Learning  Stanford University   \n",
       "4  Machine Learning  Stanford University   \n",
       "\n",
       "                                        course_url         course_id  \\\n",
       "0  https://www.coursera.org/learn/machine-learning  machine-learning   \n",
       "1  https://www.coursera.org/learn/machine-learning  machine-learning   \n",
       "2  https://www.coursera.org/learn/machine-learning  machine-learning   \n",
       "3  https://www.coursera.org/learn/machine-learning  machine-learning   \n",
       "4  https://www.coursera.org/learn/machine-learning  machine-learning   \n",
       "\n",
       "                                             reviews     reviewers  \\\n",
       "0  This is an extremely basic course. Machine lea...  By Deleted A   \n",
       "1  The course is ok but the certification procedu...    By Bruno C   \n",
       "2  I just started week 3 , I have to admit that I...       By Fadi   \n",
       "3  This course is absolute garbage.  You get no f...   By Mathew L   \n",
       "4  However good the material and lectures may be,...      By Rui C   \n",
       "\n",
       "   date_reviews  rating      course_id_re university  \n",
       "0  Mar 18, 2017       1  machine-learning        Yes  \n",
       "1  Nov 09, 2015       1  machine-learning        Yes  \n",
       "2  Apr 15, 2019       1  machine-learning        Yes  \n",
       "3  Sep 25, 2015       1  machine-learning        Yes  \n",
       "4  Dec 12, 2015       1  machine-learning        Yes  "
      ]
     },
     "execution_count": 135,
     "metadata": {},
     "output_type": "execute_result"
    }
   ],
   "source": [
    "cursera_df.head()"
   ]
  },
  {
   "cell_type": "code",
   "execution_count": 137,
   "metadata": {},
   "outputs": [
    {
     "data": {
      "text/plain": [
       "By Deleted A      1122\n",
       "By Muhammad A      118\n",
       "By David M          92\n",
       "By Michael S        92\n",
       "By David S          88\n",
       "                  ... \n",
       "By TEJAS A           1\n",
       "By isha d            1\n",
       "By Simone b          1\n",
       "By Muzemil M M       1\n",
       "By Estella W         1\n",
       "Name: reviewers, Length: 184418, dtype: int64"
      ]
     },
     "execution_count": 137,
     "metadata": {},
     "output_type": "execute_result"
    }
   ],
   "source": [
    "cursera_university[\"reviewers\"].value_counts()"
   ]
  },
  {
   "cell_type": "code",
   "execution_count": 132,
   "metadata": {},
   "outputs": [
    {
     "name": "stderr",
     "output_type": "stream",
     "text": [
      "C:\\Users\\amysl\\AppData\\Local\\Temp\\ipykernel_7212\\3984525783.py:1: FutureWarning: The default value of numeric_only in DataFrameGroupBy.mean is deprecated. In a future version, numeric_only will default to False. Either specify numeric_only or select only columns which should be valid for the function.\n",
      "  cursera_university.groupby([\"institution\"]).mean().sort_values(by=\"rating\", ascending=False).head(5)\n"
     ]
    },
    {
     "data": {
      "text/html": [
       "<div>\n",
       "<style scoped>\n",
       "    .dataframe tbody tr th:only-of-type {\n",
       "        vertical-align: middle;\n",
       "    }\n",
       "\n",
       "    .dataframe tbody tr th {\n",
       "        vertical-align: top;\n",
       "    }\n",
       "\n",
       "    .dataframe thead th {\n",
       "        text-align: right;\n",
       "    }\n",
       "</style>\n",
       "<table border=\"1\" class=\"dataframe\">\n",
       "  <thead>\n",
       "    <tr style=\"text-align: right;\">\n",
       "      <th></th>\n",
       "      <th>rating</th>\n",
       "    </tr>\n",
       "    <tr>\n",
       "      <th>institution</th>\n",
       "      <th></th>\n",
       "    </tr>\n",
       "  </thead>\n",
       "  <tbody>\n",
       "    <tr>\n",
       "      <th>University of Rochester</th>\n",
       "      <td>4.911765</td>\n",
       "    </tr>\n",
       "    <tr>\n",
       "      <th>Arizona State University</th>\n",
       "      <td>4.897756</td>\n",
       "    </tr>\n",
       "    <tr>\n",
       "      <th>Hebrew University of Jerusalem</th>\n",
       "      <td>4.893617</td>\n",
       "    </tr>\n",
       "    <tr>\n",
       "      <th>The University of Chicago</th>\n",
       "      <td>4.892178</td>\n",
       "    </tr>\n",
       "    <tr>\n",
       "      <th>University of Arizona</th>\n",
       "      <td>4.881379</td>\n",
       "    </tr>\n",
       "  </tbody>\n",
       "</table>\n",
       "</div>"
      ],
      "text/plain": [
       "                                  rating\n",
       "institution                             \n",
       "University of Rochester         4.911765\n",
       "Arizona State University        4.897756\n",
       "Hebrew University of Jerusalem  4.893617\n",
       "The University of Chicago       4.892178\n",
       "University of Arizona           4.881379"
      ]
     },
     "execution_count": 132,
     "metadata": {},
     "output_type": "execute_result"
    }
   ],
   "source": [
    "#Top 5 university courses (by rating)\n",
    "cursera_university.groupby([\"institution\"]).mean().sort_values(by=\"rating\", ascending=False).head(5)"
   ]
  },
  {
   "attachments": {},
   "cell_type": "markdown",
   "metadata": {},
   "source": [
    "Notice that 4 of the top 5 ratings come from a USA university"
   ]
  },
  {
   "cell_type": "code",
   "execution_count": 133,
   "metadata": {},
   "outputs": [
    {
     "name": "stderr",
     "output_type": "stream",
     "text": [
      "C:\\Users\\amysl\\AppData\\Local\\Temp\\ipykernel_7212\\1460054631.py:2: FutureWarning: The default value of numeric_only in DataFrameGroupBy.mean is deprecated. In a future version, numeric_only will default to False. Either specify numeric_only or select only columns which should be valid for the function.\n",
      "  cursera_other.groupby([\"institution\"]).mean().sort_values(by=\"rating\", ascending=False).head(5)\n"
     ]
    },
    {
     "data": {
      "text/html": [
       "<div>\n",
       "<style scoped>\n",
       "    .dataframe tbody tr th:only-of-type {\n",
       "        vertical-align: middle;\n",
       "    }\n",
       "\n",
       "    .dataframe tbody tr th {\n",
       "        vertical-align: top;\n",
       "    }\n",
       "\n",
       "    .dataframe thead th {\n",
       "        text-align: right;\n",
       "    }\n",
       "</style>\n",
       "<table border=\"1\" class=\"dataframe\">\n",
       "  <thead>\n",
       "    <tr style=\"text-align: right;\">\n",
       "      <th></th>\n",
       "      <th>rating</th>\n",
       "    </tr>\n",
       "    <tr>\n",
       "      <th>institution</th>\n",
       "      <th></th>\n",
       "    </tr>\n",
       "  </thead>\n",
       "  <tbody>\n",
       "    <tr>\n",
       "      <th>GitLab</th>\n",
       "      <td>5.000000</td>\n",
       "    </tr>\n",
       "    <tr>\n",
       "      <th>Universidade Estadual de Campinas</th>\n",
       "      <td>4.919725</td>\n",
       "    </tr>\n",
       "    <tr>\n",
       "      <th>Universidad de los Andes</th>\n",
       "      <td>4.890560</td>\n",
       "    </tr>\n",
       "    <tr>\n",
       "      <th>London Business School</th>\n",
       "      <td>4.873563</td>\n",
       "    </tr>\n",
       "    <tr>\n",
       "      <th>SAS</th>\n",
       "      <td>4.869565</td>\n",
       "    </tr>\n",
       "  </tbody>\n",
       "</table>\n",
       "</div>"
      ],
      "text/plain": [
       "                                     rating\n",
       "institution                                \n",
       "GitLab                             5.000000\n",
       "Universidade Estadual de Campinas  4.919725\n",
       "Universidad de los Andes           4.890560\n",
       "London Business School             4.873563\n",
       "SAS                                4.869565"
      ]
     },
     "execution_count": 133,
     "metadata": {},
     "output_type": "execute_result"
    }
   ],
   "source": [
    "#Top 5 no university courses (by rating)\n",
    "cursera_other.groupby([\"institution\"]).mean().sort_values(by=\"rating\", ascending=False).head(5)"
   ]
  },
  {
   "cell_type": "code",
   "execution_count": 130,
   "metadata": {},
   "outputs": [
    {
     "name": "stderr",
     "output_type": "stream",
     "text": [
      "C:\\Users\\amysl\\AppData\\Local\\Temp\\ipykernel_7212\\1771504001.py:1: FutureWarning: The default value of numeric_only in DataFrameGroupBy.mean is deprecated. In a future version, numeric_only will default to False. Either specify numeric_only or select only columns which should be valid for the function.\n",
      "  cursera_df.groupby([\"name\"]).mean().sort_values(by=\"rating\", ascending=False).head(5)\n"
     ]
    },
    {
     "data": {
      "text/html": [
       "<div>\n",
       "<style scoped>\n",
       "    .dataframe tbody tr th:only-of-type {\n",
       "        vertical-align: middle;\n",
       "    }\n",
       "\n",
       "    .dataframe tbody tr th {\n",
       "        vertical-align: top;\n",
       "    }\n",
       "\n",
       "    .dataframe thead th {\n",
       "        text-align: right;\n",
       "    }\n",
       "</style>\n",
       "<table border=\"1\" class=\"dataframe\">\n",
       "  <thead>\n",
       "    <tr style=\"text-align: right;\">\n",
       "      <th></th>\n",
       "      <th>rating</th>\n",
       "    </tr>\n",
       "    <tr>\n",
       "      <th>name</th>\n",
       "      <th></th>\n",
       "    </tr>\n",
       "  </thead>\n",
       "  <tbody>\n",
       "    <tr>\n",
       "      <th>Entreprise et changement climatique</th>\n",
       "      <td>5.000000</td>\n",
       "    </tr>\n",
       "    <tr>\n",
       "      <th>Building Modern Python Applications on AWS</th>\n",
       "      <td>5.000000</td>\n",
       "    </tr>\n",
       "    <tr>\n",
       "      <th>How to Manage a Remote Team</th>\n",
       "      <td>5.000000</td>\n",
       "    </tr>\n",
       "    <tr>\n",
       "      <th>Removing Barriers to Change</th>\n",
       "      <td>5.000000</td>\n",
       "    </tr>\n",
       "    <tr>\n",
       "      <th>El Abogado del Futuro: Legaltech y la Transformación Digital del Derecho</th>\n",
       "      <td>4.974359</td>\n",
       "    </tr>\n",
       "  </tbody>\n",
       "</table>\n",
       "</div>"
      ],
      "text/plain": [
       "                                                      rating\n",
       "name                                                        \n",
       "Entreprise et changement climatique                 5.000000\n",
       "Building Modern Python Applications on AWS          5.000000\n",
       "How to Manage a Remote Team                         5.000000\n",
       "Removing Barriers to Change                         5.000000\n",
       "El Abogado del Futuro: Legaltech y la Transform...  4.974359"
      ]
     },
     "execution_count": 130,
     "metadata": {},
     "output_type": "execute_result"
    }
   ],
   "source": [
    "#Top 5 courses (by rating)\n",
    "cursera_df.groupby([\"name\"]).mean().sort_values(by=\"rating\", ascending=False).head(5)"
   ]
  },
  {
   "attachments": {},
   "cell_type": "markdown",
   "metadata": {},
   "source": [
    "---"
   ]
  },
  {
   "attachments": {},
   "cell_type": "markdown",
   "metadata": {},
   "source": [
    "---"
   ]
  },
  {
   "attachments": {},
   "cell_type": "markdown",
   "metadata": {},
   "source": [
    "## EDX"
   ]
  },
  {
   "cell_type": "code",
   "execution_count": null,
   "metadata": {},
   "outputs": [
    {
     "data": {
      "text/html": [
       "<div>\n",
       "<style scoped>\n",
       "    .dataframe tbody tr th:only-of-type {\n",
       "        vertical-align: middle;\n",
       "    }\n",
       "\n",
       "    .dataframe tbody tr th {\n",
       "        vertical-align: top;\n",
       "    }\n",
       "\n",
       "    .dataframe thead th {\n",
       "        text-align: right;\n",
       "    }\n",
       "</style>\n",
       "<table border=\"1\" class=\"dataframe\">\n",
       "  <thead>\n",
       "    <tr style=\"text-align: right;\">\n",
       "      <th></th>\n",
       "      <th>title</th>\n",
       "      <th>summary</th>\n",
       "      <th>n_enrolled</th>\n",
       "      <th>course_type</th>\n",
       "      <th>institution</th>\n",
       "      <th>instructors</th>\n",
       "      <th>Level</th>\n",
       "      <th>subject</th>\n",
       "      <th>language</th>\n",
       "      <th>subtitles</th>\n",
       "      <th>course_effort</th>\n",
       "      <th>course_length</th>\n",
       "      <th>course_description</th>\n",
       "      <th>course_syllabus</th>\n",
       "      <th>course_url</th>\n",
       "      <th>price_certificate</th>\n",
       "    </tr>\n",
       "  </thead>\n",
       "  <tbody>\n",
       "    <tr>\n",
       "      <th>0</th>\n",
       "      <td>How to Learn Online</td>\n",
       "      <td>Learn essential strategies for successful onli...</td>\n",
       "      <td>124,980</td>\n",
       "      <td>Self-paced on your time</td>\n",
       "      <td>edX</td>\n",
       "      <td>Nina Huntemann-Robyn Belair-Ben Piscopo</td>\n",
       "      <td>Introductory</td>\n",
       "      <td>Education &amp; Teacher Training</td>\n",
       "      <td>English</td>\n",
       "      <td>English</td>\n",
       "      <td>2–3 hours per week</td>\n",
       "      <td>2 Weeks</td>\n",
       "      <td>Designed for those who are new to elearning, t...</td>\n",
       "      <td>Welcome - We start with opportunities to meet ...</td>\n",
       "      <td>https://www.edx.org/course/how-to-learn-online</td>\n",
       "      <td>49.0</td>\n",
       "    </tr>\n",
       "    <tr>\n",
       "      <th>1</th>\n",
       "      <td>Programming for Everybody (Getting Started wit...</td>\n",
       "      <td>This course is a \"no prerequisite\" introductio...</td>\n",
       "      <td>293,864</td>\n",
       "      <td>Self-paced on your time</td>\n",
       "      <td>The University of Michigan</td>\n",
       "      <td>Charles Severance</td>\n",
       "      <td>Introductory</td>\n",
       "      <td>Computer Science</td>\n",
       "      <td>English</td>\n",
       "      <td>English</td>\n",
       "      <td>2–4 hours per week</td>\n",
       "      <td>7 Weeks</td>\n",
       "      <td>This course aims to teach everyone the basics ...</td>\n",
       "      <td>NaN</td>\n",
       "      <td>https://www.edx.org/course/programming-for-eve...</td>\n",
       "      <td>49.0</td>\n",
       "    </tr>\n",
       "  </tbody>\n",
       "</table>\n",
       "</div>"
      ],
      "text/plain": [
       "                                               title  \\\n",
       "0                                How to Learn Online   \n",
       "1  Programming for Everybody (Getting Started wit...   \n",
       "\n",
       "                                             summary n_enrolled  \\\n",
       "0  Learn essential strategies for successful onli...    124,980   \n",
       "1  This course is a \"no prerequisite\" introductio...    293,864   \n",
       "\n",
       "               course_type                 institution  \\\n",
       "0  Self-paced on your time                         edX   \n",
       "1  Self-paced on your time  The University of Michigan   \n",
       "\n",
       "                               instructors         Level  \\\n",
       "0  Nina Huntemann-Robyn Belair-Ben Piscopo  Introductory   \n",
       "1                        Charles Severance  Introductory   \n",
       "\n",
       "                        subject language subtitles       course_effort  \\\n",
       "0  Education & Teacher Training  English   English  2–3 hours per week   \n",
       "1              Computer Science  English   English  2–4 hours per week   \n",
       "\n",
       "  course_length                                 course_description  \\\n",
       "0       2 Weeks  Designed for those who are new to elearning, t...   \n",
       "1       7 Weeks  This course aims to teach everyone the basics ...   \n",
       "\n",
       "                                     course_syllabus  \\\n",
       "0  Welcome - We start with opportunities to meet ...   \n",
       "1                                                NaN   \n",
       "\n",
       "                                          course_url  price_certificate  \n",
       "0     https://www.edx.org/course/how-to-learn-online               49.0  \n",
       "1  https://www.edx.org/course/programming-for-eve...               49.0  "
      ]
     },
     "execution_count": 15,
     "metadata": {},
     "output_type": "execute_result"
    }
   ],
   "source": [
    "edx_co.head(2)"
   ]
  },
  {
   "attachments": {},
   "cell_type": "markdown",
   "metadata": {},
   "source": [
    "First, let's get the certificate price in a separate column named \"price_certificate\" (remember that all the courses are FREE, and you can add a certificate for a determined price)"
   ]
  },
  {
   "cell_type": "code",
   "execution_count": null,
   "metadata": {},
   "outputs": [],
   "source": [
    "edx_co[\"price_usd\"] = edx_co[\"price\"].str.split(pat=\"$\").str.get(1)\n",
    "edx_co[\"price_usd2\"] = edx_co[\"price_usd\"].str.split(\" USD\").str.get(0)\n",
    "edx_co.drop(columns = [\"price_usd\", \"price\"], inplace=True)\n",
    "edx_co.rename( columns = {\"price_usd2\" : \"price_certificate\"}, inplace= True)\n",
    "edx_co[\"price_certificate\"] = edx_co[\"price_certificate\"].astype(str).astype(float)"
   ]
  },
  {
   "attachments": {},
   "cell_type": "markdown",
   "metadata": {},
   "source": [
    "We should convert n_enrolled dtype \"Object\" to \"INT\" for further analysis"
   ]
  },
  {
   "attachments": {},
   "cell_type": "markdown",
   "metadata": {},
   "source": [
    "If there are any NaN in the n_enrolled column, we should drop them (no number enrolled = no consuming = no info for us here)"
   ]
  },
  {
   "cell_type": "code",
   "execution_count": null,
   "metadata": {},
   "outputs": [
    {
     "data": {
      "text/plain": [
       "120"
      ]
     },
     "execution_count": 22,
     "metadata": {},
     "output_type": "execute_result"
    }
   ],
   "source": [
    "edx_co[\"n_enrolled\"].isnull().sum()"
   ]
  },
  {
   "attachments": {},
   "cell_type": "markdown",
   "metadata": {},
   "source": [
    "We drop the 120 n_enrolled null values"
   ]
  },
  {
   "cell_type": "code",
   "execution_count": null,
   "metadata": {},
   "outputs": [],
   "source": [
    "edx_co.drop_duplicates(subset='n_enrolled', inplace=True)"
   ]
  },
  {
   "attachments": {},
   "cell_type": "markdown",
   "metadata": {},
   "source": [
    "Change dtype"
   ]
  },
  {
   "cell_type": "code",
   "execution_count": null,
   "metadata": {},
   "outputs": [],
   "source": [
    "edx_co[\"n_enrolled\"]=edx_co[\"n_enrolled\"].str.replace(',','')\n",
    "edx_co[\"n_enrolled\"] = edx_co[\"n_enrolled\"].astype(str).astype(float)\n",
    "edx_co[\"n_enrolled\"] = edx_co[\"n_enrolled\"].astype(float).astype(int)"
   ]
  },
  {
   "attachments": {},
   "cell_type": "markdown",
   "metadata": {},
   "source": [
    "Separeting \"course_effort\" and \"course_length\" will let us know if this variables have antything to do with the \"n_enrolled\" (we suspect so...)\n",
    "\n",
    "Intuitively, the greater the effort and length the less enrolled students.. let's check it out!"
   ]
  },
  {
   "cell_type": "code",
   "execution_count": null,
   "metadata": {},
   "outputs": [],
   "source": [
    "#First we split the range of hours\n",
    "edx_co[\"course_effort_hours\"] = edx_co[\"course_effort\"].str.split(\" hours per week\").str.get(0)\n",
    "#Now we separete the min from the max \n",
    "edx_co[\"course_effort_hours_min\"] = edx_co[\"course_effort_hours\"].str.split(\"–\").str.get(0)\n",
    "edx_co[\"course_effort_hours_max\"] = edx_co[\"course_effort_hours\"].str.split(\"–\").str.get(1)\n",
    "#Turn them into Integer so we can get the mean\n",
    "edx_co[\"course_effort_hours_min\"] =edx_co[\"course_effort_hours_min\"].astype(str).astype(int)\n",
    "edx_co[\"course_effort_hours_max\"] =edx_co[\"course_effort_hours_max\"].astype(str).astype(int)"
   ]
  },
  {
   "attachments": {},
   "cell_type": "markdown",
   "metadata": {},
   "source": [
    "Creating a \"course_effort_mean\" will show us the average hours a student should dedicate to each course:"
   ]
  },
  {
   "cell_type": "code",
   "execution_count": null,
   "metadata": {},
   "outputs": [],
   "source": [
    "edx_co[\"course_effort_mean\"] = ( edx_co[\"course_effort_hours_min\"] + edx_co[\"course_effort_hours_max\"] ) / 2\n",
    "\n",
    "#Remember that the mean is in \"hours\""
   ]
  },
  {
   "cell_type": "code",
   "execution_count": null,
   "metadata": {},
   "outputs": [],
   "source": [
    "#Now we can drop the min and max columns\n",
    "edx_co.drop(columns = [\"course_effort_hours_min\", \"course_effort_hours_max\"], inplace=True)"
   ]
  },
  {
   "attachments": {},
   "cell_type": "markdown",
   "metadata": {},
   "source": [
    "Now, for the \"course_length\" column..."
   ]
  },
  {
   "cell_type": "code",
   "execution_count": null,
   "metadata": {},
   "outputs": [],
   "source": [
    "#Splitting: \n",
    "edx_co[\"course_length_weeks\"] = edx_co[\"course_length\"].str.split(\" Weeks\").str.get(0)\n",
    "#Now turn it to a integer type: \n",
    "edx_co[\"course_length_weeks\"] =edx_co[\"course_length_weeks\"].astype(str).astype(int)"
   ]
  },
  {
   "cell_type": "code",
   "execution_count": null,
   "metadata": {},
   "outputs": [
    {
     "data": {
      "text/html": [
       "<div>\n",
       "<style scoped>\n",
       "    .dataframe tbody tr th:only-of-type {\n",
       "        vertical-align: middle;\n",
       "    }\n",
       "\n",
       "    .dataframe tbody tr th {\n",
       "        vertical-align: top;\n",
       "    }\n",
       "\n",
       "    .dataframe thead th {\n",
       "        text-align: right;\n",
       "    }\n",
       "</style>\n",
       "<table border=\"1\" class=\"dataframe\">\n",
       "  <thead>\n",
       "    <tr style=\"text-align: right;\">\n",
       "      <th></th>\n",
       "      <th>title</th>\n",
       "      <th>summary</th>\n",
       "      <th>n_enrolled</th>\n",
       "      <th>course_type</th>\n",
       "      <th>institution</th>\n",
       "      <th>instructors</th>\n",
       "      <th>Level</th>\n",
       "      <th>subject</th>\n",
       "      <th>language</th>\n",
       "      <th>subtitles</th>\n",
       "      <th>course_effort</th>\n",
       "      <th>course_length</th>\n",
       "      <th>course_description</th>\n",
       "      <th>course_syllabus</th>\n",
       "      <th>course_url</th>\n",
       "      <th>price_certificate</th>\n",
       "      <th>course_effort_hours</th>\n",
       "      <th>course_effort_mean</th>\n",
       "      <th>course_length_weeks</th>\n",
       "    </tr>\n",
       "  </thead>\n",
       "  <tbody>\n",
       "    <tr>\n",
       "      <th>0</th>\n",
       "      <td>How to Learn Online</td>\n",
       "      <td>Learn essential strategies for successful onli...</td>\n",
       "      <td>124980.0</td>\n",
       "      <td>Self-paced on your time</td>\n",
       "      <td>edX</td>\n",
       "      <td>Nina Huntemann-Robyn Belair-Ben Piscopo</td>\n",
       "      <td>Introductory</td>\n",
       "      <td>Education &amp; Teacher Training</td>\n",
       "      <td>English</td>\n",
       "      <td>English</td>\n",
       "      <td>2–3 hours per week</td>\n",
       "      <td>2 Weeks</td>\n",
       "      <td>Designed for those who are new to elearning, t...</td>\n",
       "      <td>Welcome - We start with opportunities to meet ...</td>\n",
       "      <td>https://www.edx.org/course/how-to-learn-online</td>\n",
       "      <td>49.0</td>\n",
       "      <td>2–3</td>\n",
       "      <td>2.5</td>\n",
       "      <td>2</td>\n",
       "    </tr>\n",
       "    <tr>\n",
       "      <th>1</th>\n",
       "      <td>Programming for Everybody (Getting Started wit...</td>\n",
       "      <td>This course is a \"no prerequisite\" introductio...</td>\n",
       "      <td>293864.0</td>\n",
       "      <td>Self-paced on your time</td>\n",
       "      <td>The University of Michigan</td>\n",
       "      <td>Charles Severance</td>\n",
       "      <td>Introductory</td>\n",
       "      <td>Computer Science</td>\n",
       "      <td>English</td>\n",
       "      <td>English</td>\n",
       "      <td>2–4 hours per week</td>\n",
       "      <td>7 Weeks</td>\n",
       "      <td>This course aims to teach everyone the basics ...</td>\n",
       "      <td>NaN</td>\n",
       "      <td>https://www.edx.org/course/programming-for-eve...</td>\n",
       "      <td>49.0</td>\n",
       "      <td>2–4</td>\n",
       "      <td>3.0</td>\n",
       "      <td>7</td>\n",
       "    </tr>\n",
       "  </tbody>\n",
       "</table>\n",
       "</div>"
      ],
      "text/plain": [
       "                                               title  \\\n",
       "0                                How to Learn Online   \n",
       "1  Programming for Everybody (Getting Started wit...   \n",
       "\n",
       "                                             summary  n_enrolled  \\\n",
       "0  Learn essential strategies for successful onli...    124980.0   \n",
       "1  This course is a \"no prerequisite\" introductio...    293864.0   \n",
       "\n",
       "               course_type                 institution  \\\n",
       "0  Self-paced on your time                         edX   \n",
       "1  Self-paced on your time  The University of Michigan   \n",
       "\n",
       "                               instructors         Level  \\\n",
       "0  Nina Huntemann-Robyn Belair-Ben Piscopo  Introductory   \n",
       "1                        Charles Severance  Introductory   \n",
       "\n",
       "                        subject language subtitles       course_effort  \\\n",
       "0  Education & Teacher Training  English   English  2–3 hours per week   \n",
       "1              Computer Science  English   English  2–4 hours per week   \n",
       "\n",
       "  course_length                                 course_description  \\\n",
       "0       2 Weeks  Designed for those who are new to elearning, t...   \n",
       "1       7 Weeks  This course aims to teach everyone the basics ...   \n",
       "\n",
       "                                     course_syllabus  \\\n",
       "0  Welcome - We start with opportunities to meet ...   \n",
       "1                                                NaN   \n",
       "\n",
       "                                          course_url  price_certificate  \\\n",
       "0     https://www.edx.org/course/how-to-learn-online               49.0   \n",
       "1  https://www.edx.org/course/programming-for-eve...               49.0   \n",
       "\n",
       "  course_effort_hours  course_effort_mean  course_length_weeks  \n",
       "0                 2–3                 2.5                    2  \n",
       "1                 2–4                 3.0                    7  "
      ]
     },
     "execution_count": 21,
     "metadata": {},
     "output_type": "execute_result"
    }
   ],
   "source": [
    "edx_co.head(2)"
   ]
  },
  {
   "cell_type": "code",
   "execution_count": null,
   "metadata": {},
   "outputs": [
    {
     "data": {
      "text/plain": [
       "(array([313., 121., 145., 144.,  79.,  27.,  13.,   3.,   4.,   1.]),\n",
       " array([  5. ,  49.5,  94. , 138.5, 183. , 227.5, 272. , 316.5, 361. ,\n",
       "        405.5, 450. ]),\n",
       " <BarContainer object of 10 artists>)"
      ]
     },
     "execution_count": 26,
     "metadata": {},
     "output_type": "execute_result"
    },
    {
     "data": {
      "image/png": "[encoded data removed]",
      "text/plain": [
       "<Figure size 640x480 with 1 Axes>"
      ]
     },
     "metadata": {},
     "output_type": "display_data"
    }
   ],
   "source": [
    "#Lets check out some distribuition por \"price certificate\"\n",
    "plt.hist(x = edx_co[\"price_certificate\"], bins=10, edgecolor=\"black\")"
   ]
  },
  {
   "attachments": {},
   "cell_type": "markdown",
   "metadata": {},
   "source": [
    "Logically, the mayority of certificates are close to the 20 to 50 USD$ price"
   ]
  },
  {
   "attachments": {},
   "cell_type": "markdown",
   "metadata": {},
   "source": [
    "Conitnue exploring data..."
   ]
  },
  {
   "cell_type": "code",
   "execution_count": null,
   "metadata": {},
   "outputs": [
    {
     "data": {
      "text/plain": [
       "Harvard University                                                        103\n",
       "Universitat Politècnica de Valencia                                        45\n",
       "Massachusetts Institute of Technology                                      37\n",
       "Delft University of Technology                                             28\n",
       "Inter-American Development Bank                                            27\n",
       "                                                                         ... \n",
       "University System of Maryland-The University of Maryland, College Park      1\n",
       "University of Oxford                                                        1\n",
       "Davidson College                                                            1\n",
       "Educational Testing Service                                                 1\n",
       "University of Baltimore-University System of Maryland                       1\n",
       "Name: institution, Length: 106, dtype: int64"
      ]
     },
     "execution_count": 449,
     "metadata": {},
     "output_type": "execute_result"
    }
   ],
   "source": [
    "edx_co[\"institution\"].value_counts()\n",
    "#Harvard university is the institute with the highest amount of courses"
   ]
  },
  {
   "cell_type": "code",
   "execution_count": null,
   "metadata": {},
   "outputs": [
    {
     "data": {
      "text/plain": [
       "<AxesSubplot:xlabel='course_effort_mean', ylabel='n_enrolled'>"
      ]
     },
     "execution_count": 506,
     "metadata": {},
     "output_type": "execute_result"
    },
    {
     "data": {
      "image/png": "[encoded data removed]",
      "text/plain": [
       "<Figure size 640x480 with 1 Axes>"
      ]
     },
     "metadata": {},
     "output_type": "display_data"
    }
   ],
   "source": [
    "sns.scatterplot(x = \"course_effort_mean\", y = \"n_enrolled\", data = edx_co, hue=\"Level\")"
   ]
  },
  {
   "attachments": {},
   "cell_type": "markdown",
   "metadata": {},
   "source": [
    "As we can see, the more advanced level the course is, the less enrolled students. Also, the course effort increases..."
   ]
  },
  {
   "cell_type": "code",
   "execution_count": null,
   "metadata": {},
   "outputs": [
    {
     "name": "stderr",
     "output_type": "stream",
     "text": [
      "C:\\Users\\amysl\\AppData\\Local\\Temp\\ipykernel_22624\\2524992735.py:1: FutureWarning: The default value of numeric_only in DataFrame.corr is deprecated. In a future version, it will default to False. Select only valid columns or specify the value of numeric_only to silence this warning.\n",
      "  sns.heatmap(edx_co.corr(), annot=True, cmap=\"coolwarm\")\n"
     ]
    },
    {
     "data": {
      "text/plain": [
       "<AxesSubplot:>"
      ]
     },
     "execution_count": 583,
     "metadata": {},
     "output_type": "execute_result"
    },
    {
     "data": {
      "image/png": "[encoded data removed]",
      "text/plain": [
       "<Figure size 640x480 with 2 Axes>"
      ]
     },
     "metadata": {},
     "output_type": "display_data"
    }
   ],
   "source": [
    "#Heatmap to see some correlation\n",
    "sns.heatmap(edx_co.corr(), annot=True, cmap=\"coolwarm\")"
   ]
  },
  {
   "attachments": {},
   "cell_type": "markdown",
   "metadata": {},
   "source": [
    "Again, courses where more effort is demanded have higher price certificate"
   ]
  },
  {
   "attachments": {},
   "cell_type": "markdown",
   "metadata": {},
   "source": [
    "---"
   ]
  },
  {
   "attachments": {},
   "cell_type": "markdown",
   "metadata": {},
   "source": [
    "---"
   ]
  },
  {
   "attachments": {},
   "cell_type": "markdown",
   "metadata": {},
   "source": [
    "## UDEMY"
   ]
  },
  {
   "cell_type": "code",
   "execution_count": null,
   "metadata": {},
   "outputs": [
    {
     "data": {
      "text/html": [
       "<div>\n",
       "<style scoped>\n",
       "    .dataframe tbody tr th:only-of-type {\n",
       "        vertical-align: middle;\n",
       "    }\n",
       "\n",
       "    .dataframe tbody tr th {\n",
       "        vertical-align: top;\n",
       "    }\n",
       "\n",
       "    .dataframe thead th {\n",
       "        text-align: right;\n",
       "    }\n",
       "</style>\n",
       "<table border=\"1\" class=\"dataframe\">\n",
       "  <thead>\n",
       "    <tr style=\"text-align: right;\">\n",
       "      <th></th>\n",
       "      <th>course_id</th>\n",
       "      <th>course_title</th>\n",
       "      <th>url</th>\n",
       "      <th>is_paid</th>\n",
       "      <th>price</th>\n",
       "      <th>num_subscribers</th>\n",
       "      <th>num_reviews</th>\n",
       "      <th>num_lectures</th>\n",
       "      <th>level</th>\n",
       "      <th>content_duration</th>\n",
       "      <th>published_timestamp</th>\n",
       "      <th>subject</th>\n",
       "    </tr>\n",
       "  </thead>\n",
       "  <tbody>\n",
       "    <tr>\n",
       "      <th>0</th>\n",
       "      <td>1070968</td>\n",
       "      <td>Ultimate Investment Banking Course</td>\n",
       "      <td>https://www.udemy.com/ultimate-investment-bank...</td>\n",
       "      <td>True</td>\n",
       "      <td>200</td>\n",
       "      <td>2147</td>\n",
       "      <td>23</td>\n",
       "      <td>51</td>\n",
       "      <td>All Levels</td>\n",
       "      <td>1.5</td>\n",
       "      <td>2017-01-18T20:58:58Z</td>\n",
       "      <td>Business Finance</td>\n",
       "    </tr>\n",
       "    <tr>\n",
       "      <th>1</th>\n",
       "      <td>1113822</td>\n",
       "      <td>Complete GST Course &amp; Certification - Grow You...</td>\n",
       "      <td>https://www.udemy.com/goods-and-services-tax/</td>\n",
       "      <td>True</td>\n",
       "      <td>75</td>\n",
       "      <td>2792</td>\n",
       "      <td>923</td>\n",
       "      <td>274</td>\n",
       "      <td>All Levels</td>\n",
       "      <td>39.0</td>\n",
       "      <td>2017-03-09T16:34:20Z</td>\n",
       "      <td>Business Finance</td>\n",
       "    </tr>\n",
       "    <tr>\n",
       "      <th>2</th>\n",
       "      <td>1006314</td>\n",
       "      <td>Financial Modeling for Business Analysts and C...</td>\n",
       "      <td>https://www.udemy.com/financial-modeling-for-b...</td>\n",
       "      <td>True</td>\n",
       "      <td>45</td>\n",
       "      <td>2174</td>\n",
       "      <td>74</td>\n",
       "      <td>51</td>\n",
       "      <td>Intermediate Level</td>\n",
       "      <td>2.5</td>\n",
       "      <td>2016-12-19T19:26:30Z</td>\n",
       "      <td>Business Finance</td>\n",
       "    </tr>\n",
       "    <tr>\n",
       "      <th>3</th>\n",
       "      <td>1210588</td>\n",
       "      <td>Beginner to Pro - Financial Analysis in Excel ...</td>\n",
       "      <td>https://www.udemy.com/complete-excel-finance-c...</td>\n",
       "      <td>True</td>\n",
       "      <td>95</td>\n",
       "      <td>2451</td>\n",
       "      <td>11</td>\n",
       "      <td>36</td>\n",
       "      <td>All Levels</td>\n",
       "      <td>3.0</td>\n",
       "      <td>2017-05-30T20:07:24Z</td>\n",
       "      <td>Business Finance</td>\n",
       "    </tr>\n",
       "    <tr>\n",
       "      <th>4</th>\n",
       "      <td>1011058</td>\n",
       "      <td>How To Maximize Your Profits Trading Options</td>\n",
       "      <td>https://www.udemy.com/how-to-maximize-your-pro...</td>\n",
       "      <td>True</td>\n",
       "      <td>200</td>\n",
       "      <td>1276</td>\n",
       "      <td>45</td>\n",
       "      <td>26</td>\n",
       "      <td>Intermediate Level</td>\n",
       "      <td>2.0</td>\n",
       "      <td>2016-12-13T14:57:18Z</td>\n",
       "      <td>Business Finance</td>\n",
       "    </tr>\n",
       "  </tbody>\n",
       "</table>\n",
       "</div>"
      ],
      "text/plain": [
       "   course_id                                       course_title  \\\n",
       "0    1070968                 Ultimate Investment Banking Course   \n",
       "1    1113822  Complete GST Course & Certification - Grow You...   \n",
       "2    1006314  Financial Modeling for Business Analysts and C...   \n",
       "3    1210588  Beginner to Pro - Financial Analysis in Excel ...   \n",
       "4    1011058       How To Maximize Your Profits Trading Options   \n",
       "\n",
       "                                                 url  is_paid  price  \\\n",
       "0  https://www.udemy.com/ultimate-investment-bank...     True    200   \n",
       "1      https://www.udemy.com/goods-and-services-tax/     True     75   \n",
       "2  https://www.udemy.com/financial-modeling-for-b...     True     45   \n",
       "3  https://www.udemy.com/complete-excel-finance-c...     True     95   \n",
       "4  https://www.udemy.com/how-to-maximize-your-pro...     True    200   \n",
       "\n",
       "   num_subscribers  num_reviews  num_lectures               level  \\\n",
       "0             2147           23            51          All Levels   \n",
       "1             2792          923           274          All Levels   \n",
       "2             2174           74            51  Intermediate Level   \n",
       "3             2451           11            36          All Levels   \n",
       "4             1276           45            26  Intermediate Level   \n",
       "\n",
       "   content_duration   published_timestamp           subject  \n",
       "0               1.5  2017-01-18T20:58:58Z  Business Finance  \n",
       "1              39.0  2017-03-09T16:34:20Z  Business Finance  \n",
       "2               2.5  2016-12-19T19:26:30Z  Business Finance  \n",
       "3               3.0  2017-05-30T20:07:24Z  Business Finance  \n",
       "4               2.0  2016-12-13T14:57:18Z  Business Finance  "
      ]
     },
     "execution_count": 292,
     "metadata": {},
     "output_type": "execute_result"
    }
   ],
   "source": [
    "udemy_co.head()"
   ]
  },
  {
   "cell_type": "code",
   "execution_count": 160,
   "metadata": {},
   "outputs": [
    {
     "data": {
      "text/plain": [
       "count    3678.000000\n",
       "mean        4.094517\n",
       "std         6.053840\n",
       "min         0.000000\n",
       "25%         1.000000\n",
       "50%         2.000000\n",
       "75%         4.500000\n",
       "max        78.500000\n",
       "Name: content_duration, dtype: float64"
      ]
     },
     "execution_count": 160,
     "metadata": {},
     "output_type": "execute_result"
    }
   ],
   "source": [
    "udemy_co[\"content_duration\"].describe()"
   ]
  },
  {
   "cell_type": "code",
   "execution_count": null,
   "metadata": {},
   "outputs": [],
   "source": [
    "#For further analysis we will set the minum \"content_duration\" to 1 hour \n",
    "udemy_co[\"content_duration\"] = np.where((udemy_co[\"content_duration\"] < 1), 1, udemy_co[\"content_duration\"])"
   ]
  },
  {
   "cell_type": "code",
   "execution_count": null,
   "metadata": {},
   "outputs": [
    {
     "name": "stdout",
     "output_type": "stream",
     "text": [
      "<class 'pandas.core.frame.DataFrame'>\n",
      "RangeIndex: 3678 entries, 0 to 3677\n",
      "Data columns (total 12 columns):\n",
      " #   Column               Non-Null Count  Dtype  \n",
      "---  ------               --------------  -----  \n",
      " 0   course_id            3678 non-null   int64  \n",
      " 1   course_title         3678 non-null   object \n",
      " 2   url                  3678 non-null   object \n",
      " 3   is_paid              3678 non-null   bool   \n",
      " 4   price                3678 non-null   int64  \n",
      " 5   num_subscribers      3678 non-null   int64  \n",
      " 6   num_reviews          3678 non-null   int64  \n",
      " 7   num_lectures         3678 non-null   int64  \n",
      " 8   level                3678 non-null   object \n",
      " 9   content_duration     3678 non-null   float64\n",
      " 10  published_timestamp  3678 non-null   object \n",
      " 11  subject              3678 non-null   object \n",
      "dtypes: bool(1), float64(1), int64(5), object(5)\n",
      "memory usage: 319.8+ KB\n"
     ]
    }
   ],
   "source": [
    "#check if the dtypes are correct\n",
    "udemy_co.info()"
   ]
  },
  {
   "attachments": {},
   "cell_type": "markdown",
   "metadata": {},
   "source": [
    "For later exploratory analysis, we should split the \"published_timestamp\" into a date and time columns"
   ]
  },
  {
   "cell_type": "code",
   "execution_count": 161,
   "metadata": {},
   "outputs": [],
   "source": [
    "# convert to pandas timestamp (since \"published_timestamp\" is an \"object\" type)\n",
    "udemy_co['published_timestamp'] = pd.to_datetime(udemy_co.published_timestamp)\n",
    "#split columns\n",
    "udemy_co['published_date'] = udemy_co['published_timestamp'].dt.date\n",
    "udemy_co['published_time'] = udemy_co['published_timestamp'].dt.time\n",
    "#drop the \"published_timestamp\" \n",
    "udemy_co.drop(columns = ['published_timestamp'], inplace=True)\n",
    "#split the year from \"published date\" in separate column\n",
    "udemy_co['published_year'] = udemy_co['published_date'].astype(str).str.split(\"-\").str.get(0)\n",
    "#split the month from \"published date\" in separate column\n",
    "udemy_co['published_month'] = udemy_co['published_date'].astype(str).str.split(\"-\").str.get(1)"
   ]
  },
  {
   "cell_type": "code",
   "execution_count": 162,
   "metadata": {},
   "outputs": [
    {
     "data": {
      "text/html": [
       "<div>\n",
       "<style scoped>\n",
       "    .dataframe tbody tr th:only-of-type {\n",
       "        vertical-align: middle;\n",
       "    }\n",
       "\n",
       "    .dataframe tbody tr th {\n",
       "        vertical-align: top;\n",
       "    }\n",
       "\n",
       "    .dataframe thead th {\n",
       "        text-align: right;\n",
       "    }\n",
       "</style>\n",
       "<table border=\"1\" class=\"dataframe\">\n",
       "  <thead>\n",
       "    <tr style=\"text-align: right;\">\n",
       "      <th></th>\n",
       "      <th>course_id</th>\n",
       "      <th>course_title</th>\n",
       "      <th>url</th>\n",
       "      <th>is_paid</th>\n",
       "      <th>price</th>\n",
       "      <th>num_subscribers</th>\n",
       "      <th>num_reviews</th>\n",
       "      <th>num_lectures</th>\n",
       "      <th>level</th>\n",
       "      <th>content_duration</th>\n",
       "      <th>subject</th>\n",
       "      <th>published_date</th>\n",
       "      <th>published_time</th>\n",
       "      <th>published_year</th>\n",
       "      <th>published_month</th>\n",
       "    </tr>\n",
       "  </thead>\n",
       "  <tbody>\n",
       "    <tr>\n",
       "      <th>0</th>\n",
       "      <td>1070968</td>\n",
       "      <td>Ultimate Investment Banking Course</td>\n",
       "      <td>https://www.udemy.com/ultimate-investment-bank...</td>\n",
       "      <td>True</td>\n",
       "      <td>200</td>\n",
       "      <td>2147</td>\n",
       "      <td>23</td>\n",
       "      <td>51</td>\n",
       "      <td>All Levels</td>\n",
       "      <td>1.5</td>\n",
       "      <td>Business Finance</td>\n",
       "      <td>2017-01-18</td>\n",
       "      <td>20:58:58</td>\n",
       "      <td>2017</td>\n",
       "      <td>01</td>\n",
       "    </tr>\n",
       "    <tr>\n",
       "      <th>1</th>\n",
       "      <td>1113822</td>\n",
       "      <td>Complete GST Course &amp; Certification - Grow You...</td>\n",
       "      <td>https://www.udemy.com/goods-and-services-tax/</td>\n",
       "      <td>True</td>\n",
       "      <td>75</td>\n",
       "      <td>2792</td>\n",
       "      <td>923</td>\n",
       "      <td>274</td>\n",
       "      <td>All Levels</td>\n",
       "      <td>39.0</td>\n",
       "      <td>Business Finance</td>\n",
       "      <td>2017-03-09</td>\n",
       "      <td>16:34:20</td>\n",
       "      <td>2017</td>\n",
       "      <td>03</td>\n",
       "    </tr>\n",
       "  </tbody>\n",
       "</table>\n",
       "</div>"
      ],
      "text/plain": [
       "   course_id                                       course_title  \\\n",
       "0    1070968                 Ultimate Investment Banking Course   \n",
       "1    1113822  Complete GST Course & Certification - Grow You...   \n",
       "\n",
       "                                                 url  is_paid  price  \\\n",
       "0  https://www.udemy.com/ultimate-investment-bank...     True    200   \n",
       "1      https://www.udemy.com/goods-and-services-tax/     True     75   \n",
       "\n",
       "   num_subscribers  num_reviews  num_lectures       level  content_duration  \\\n",
       "0             2147           23            51  All Levels               1.5   \n",
       "1             2792          923           274  All Levels              39.0   \n",
       "\n",
       "            subject published_date published_time published_year  \\\n",
       "0  Business Finance     2017-01-18       20:58:58           2017   \n",
       "1  Business Finance     2017-03-09       16:34:20           2017   \n",
       "\n",
       "  published_month  \n",
       "0              01  \n",
       "1              03  "
      ]
     },
     "execution_count": 162,
     "metadata": {},
     "output_type": "execute_result"
    }
   ],
   "source": [
    "udemy_co.head(2)"
   ]
  },
  {
   "attachments": {},
   "cell_type": "markdown",
   "metadata": {},
   "source": [
    "Create a column named \"reveneu\" (price * num_subscribers) for the \"is_paid\" == True group:"
   ]
  },
  {
   "cell_type": "code",
   "execution_count": 164,
   "metadata": {},
   "outputs": [],
   "source": [
    "udemy_co[\"reveneu\"] = np.where((udemy_co[\"is_paid\"] == True), (udemy_co[\"price\"] * udemy_co[\"num_subscribers\"]), 0)"
   ]
  },
  {
   "cell_type": "code",
   "execution_count": 165,
   "metadata": {},
   "outputs": [
    {
     "name": "stderr",
     "output_type": "stream",
     "text": [
      "C:\\Users\\amysl\\AppData\\Local\\Temp\\ipykernel_7212\\1978955968.py:2: FutureWarning: The default value of numeric_only in DataFrame.corr is deprecated. In a future version, it will default to False. Select only valid columns or specify the value of numeric_only to silence this warning.\n",
      "  sns.heatmap(udemy_co.corr(), annot=True, cmap=\"coolwarm\")\n"
     ]
    },
    {
     "data": {
      "text/plain": [
       "<AxesSubplot:>"
      ]
     },
     "execution_count": 165,
     "metadata": {},
     "output_type": "execute_result"
    },
    {
     "data": {
      "image/png": "[encoded data removed]",
      "text/plain": [
       "<Figure size 640x480 with 2 Axes>"
      ]
     },
     "metadata": {},
     "output_type": "display_data"
    }
   ],
   "source": [
    "#Heatmap correlation\n",
    "sns.heatmap(udemy_co.corr(), annot=True, cmap=\"coolwarm\")"
   ]
  },
  {
   "attachments": {},
   "cell_type": "markdown",
   "metadata": {},
   "source": [
    "Content_duration and num_lectures are positively related\n",
    "\n",
    "More susbcribers means more reviews\n",
    "\n",
    "Finally, both suscribers and reviews are related to reveneu"
   ]
  },
  {
   "attachments": {},
   "cell_type": "markdown",
   "metadata": {},
   "source": [
    "Subject related:"
   ]
  },
  {
   "cell_type": "code",
   "execution_count": 167,
   "metadata": {},
   "outputs": [
    {
     "data": {
      "text/plain": [
       "Index(['Web Development', 'Business Finance', 'Musical Instruments',\n",
       "       'Graphic Design'],\n",
       "      dtype='object')"
      ]
     },
     "execution_count": 167,
     "metadata": {},
     "output_type": "execute_result"
    }
   ],
   "source": [
    "subject_value = udemy_co[\"subject\"].value_counts()\n",
    "subject_value.index"
   ]
  },
  {
   "cell_type": "code",
   "execution_count": null,
   "metadata": {},
   "outputs": [
    {
     "data": {
      "text/plain": [
       "<BarContainer object of 4 artists>"
      ]
     },
     "execution_count": 502,
     "metadata": {},
     "output_type": "execute_result"
    },
    {
     "data": {
      "image/png": "[encoded data removed]",
      "text/plain": [
       "<Figure size 640x480 with 1 Axes>"
      ]
     },
     "metadata": {},
     "output_type": "display_data"
    }
   ],
   "source": [
    "#Subject distribuition (number of courses per subject)\n",
    "plt.bar(x = subject_value.index, height= subject_value, color = [\"blue\", \"red\", \"green\", \"yellow\"])"
   ]
  },
  {
   "cell_type": "code",
   "execution_count": null,
   "metadata": {},
   "outputs": [
    {
     "data": {
      "text/plain": [
       "All Levels            1929\n",
       "Beginner Level        1270\n",
       "Intermediate Level     421\n",
       "Expert Level            58\n",
       "Name: level, dtype: int64"
      ]
     },
     "execution_count": 451,
     "metadata": {},
     "output_type": "execute_result"
    }
   ],
   "source": [
    "#Difffernt type of levels:\n",
    "udemy_co[\"level\"].value_counts()"
   ]
  },
  {
   "attachments": {},
   "cell_type": "markdown",
   "metadata": {},
   "source": [
    "Lets see which \"subject\" has more subscribers:"
   ]
  },
  {
   "attachments": {},
   "cell_type": "markdown",
   "metadata": {},
   "source": [
    "For the price normal distribution:"
   ]
  },
  {
   "cell_type": "code",
   "execution_count": null,
   "metadata": {},
   "outputs": [
    {
     "data": {
      "text/plain": [
       "<AxesSubplot:>"
      ]
     },
     "execution_count": 159,
     "metadata": {},
     "output_type": "execute_result"
    },
    {
     "data": {
      "image/png": "[encoded data removed]",
      "text/plain": [
       "<Figure size 700x300 with 1 Axes>"
      ]
     },
     "metadata": {},
     "output_type": "display_data"
    }
   ],
   "source": [
    "udemy_co[\"price\"].plot(kind = \"box\", vert = False, figsize= (7,3))"
   ]
  },
  {
   "cell_type": "code",
   "execution_count": null,
   "metadata": {},
   "outputs": [
    {
     "data": {
      "text/plain": [
       "<AxesSubplot:xlabel='price', ylabel='Count'>"
      ]
     },
     "execution_count": 547,
     "metadata": {},
     "output_type": "execute_result"
    },
    {
     "data": {
      "image/png": "[encoded data removed]",
      "text/plain": [
       "<Figure size 640x480 with 1 Axes>"
      ]
     },
     "metadata": {},
     "output_type": "display_data"
    }
   ],
   "source": [
    "sns.histplot(udemy_co[\"price\"], kde=True, bins=15)"
   ]
  },
  {
   "cell_type": "code",
   "execution_count": null,
   "metadata": {},
   "outputs": [
    {
     "data": {
      "text/plain": [
       "count    3678.000000\n",
       "mean       66.049483\n",
       "std        61.005755\n",
       "min         0.000000\n",
       "25%        20.000000\n",
       "50%        45.000000\n",
       "75%        95.000000\n",
       "max       200.000000\n",
       "Name: price, dtype: float64"
      ]
     },
     "execution_count": 160,
     "metadata": {},
     "output_type": "execute_result"
    }
   ],
   "source": [
    "udemy_co[\"price\"].describe()"
   ]
  },
  {
   "attachments": {},
   "cell_type": "markdown",
   "metadata": {},
   "source": [
    "---"
   ]
  },
  {
   "attachments": {},
   "cell_type": "markdown",
   "metadata": {},
   "source": [
    "Now that our first analysis has been made, we will continue in the Power BI software (Provide better tools for visualization)"
   ]
  },
  {
   "attachments": {},
   "cell_type": "markdown",
   "metadata": {},
   "source": [
    "In order to do so, we export the new transformed CSV's"
   ]
  },
  {
   "cell_type": "code",
   "execution_count": null,
   "metadata": {},
   "outputs": [],
   "source": [
    "curserav2 = cursera_df\n",
    "udemyv2 = udemy_co\n",
    "edxv2 = edx_co"
   ]
  },
  {
   "cell_type": "code",
   "execution_count": null,
   "metadata": {},
   "outputs": [],
   "source": [
    "#Export final CSV\n",
    "curserav2.to_csv('datasets\\curserav2.csv', index=False)\n",
    "udemyv2.to_csv('datasets\\\\udemyv2.csv', index=False)\n",
    "edxv2.to_csv('datasets\\edxv2.csv', index=False)"
   ]
  }
 ],
 "metadata": {
  "kernelspec": {
   "display_name": "Python 3",
   "language": "python",
   "name": "python3"
  },
  "language_info": {
   "codemirror_mode": {
    "name": "ipython",
    "version": 3
   },
   "file_extension": ".py",
   "mimetype": "text/x-python",
   "name": "python",
   "nbconvert_exporter": "python",
   "pygments_lexer": "ipython3",
   "version": "3.10.6"
  },
  "orig_nbformat": 4,
  "vscode": {
   "interpreter": {
    "hash": "64591f056784975da7a54cf5626d63a0be59970f3f9cceaab76df64e7e8b2b2d"
   }
  }
 },
 "nbformat": 4,
 "nbformat_minor": 2
}
